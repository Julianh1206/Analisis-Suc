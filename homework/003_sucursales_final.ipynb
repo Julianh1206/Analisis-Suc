{
 "cells": [
  {
   "cell_type": "markdown",
   "id": "17309681",
   "metadata": {},
   "source": [
    "# **Análisis de información imputada y toma de decisión con respecto a las preguntas propuestas**\n",
    "\n",
    "Se realizó un análisis completo de la base de datos tras imputar los valores faltantes en \"001_imputacion-pandas.ipynb\" con la naturaleza de cada variable analizada en \"002_exploracion-pyspark.ipynb\", lo que permitió responder de forma estructurada a cada una de las preguntas planteadas. A partir de la información tratada, se evaluó la capacidad operativa, se identificaron las horas pico, se modeló el sistema de atención mediante colas M/M/5, y se propusieron estrategias realistas para optimizar el servicio sin aumentar la capacidad. La toma de decisiones se basó en evidencia cuantitativa y cualitativa, permitiendo recomendaciones concretas para mejorar la experiencia del cliente (UX) y la eficiencia operativa."
   ]
  },
  {
   "cell_type": "code",
   "execution_count": 20,
   "id": "95736475",
   "metadata": {},
   "outputs": [],
   "source": [
    "import pandas as pd\n",
    "import numpy as np\n",
    "\n",
    "# Visualización\n",
    "import matplotlib.pyplot as plt\n",
    "import seaborn as sns\n",
    "\n",
    "# Manejo de fechas y tiempo\n",
    "from datetime import datetime, timedelta"
   ]
  },
  {
   "cell_type": "code",
   "execution_count": null,
   "id": "89d9a75e",
   "metadata": {},
   "outputs": [],
   "source": [
    "from scipy import stats          \n",
    "import plotly.express as px       "
   ]
  },
  {
   "cell_type": "code",
   "execution_count": 22,
   "id": "2dedde66",
   "metadata": {},
   "outputs": [
    {
     "data": {
      "text/html": [
       "<div>\n",
       "<style scoped>\n",
       "    .dataframe tbody tr th:only-of-type {\n",
       "        vertical-align: middle;\n",
       "    }\n",
       "\n",
       "    .dataframe tbody tr th {\n",
       "        vertical-align: top;\n",
       "    }\n",
       "\n",
       "    .dataframe thead th {\n",
       "        text-align: right;\n",
       "    }\n",
       "</style>\n",
       "<table border=\"1\" class=\"dataframe\">\n",
       "  <thead>\n",
       "    <tr style=\"text-align: right;\">\n",
       "      <th></th>\n",
       "      <th>year</th>\n",
       "      <th>month</th>\n",
       "      <th>day</th>\n",
       "      <th>hora_num</th>\n",
       "      <th>hora_str</th>\n",
       "      <th>fecha</th>\n",
       "      <th>fecha_completa</th>\n",
       "      <th>usuario_encriptado</th>\n",
       "      <th>tipo_servicio</th>\n",
       "      <th>servicio</th>\n",
       "      <th>sub_servicio</th>\n",
       "      <th>tiempo_espera</th>\n",
       "      <th>tiempo_servicio</th>\n",
       "      <th>segm</th>\n",
       "      <th>estado_caso</th>\n",
       "      <th>asesor_encriptado</th>\n",
       "    </tr>\n",
       "  </thead>\n",
       "  <tbody>\n",
       "    <tr>\n",
       "      <th>0</th>\n",
       "      <td>2024</td>\n",
       "      <td>1</td>\n",
       "      <td>2</td>\n",
       "      <td>15</td>\n",
       "      <td>15:34:36.593000</td>\n",
       "      <td>2024-01-02</td>\n",
       "      <td>2024-01-02 15:34:36.593</td>\n",
       "      <td>20aed4d067c167cbddd3068cc704ff0068bfaef2c1186f...</td>\n",
       "      <td>Asesoria</td>\n",
       "      <td>Asesoria General</td>\n",
       "      <td>Asesoria General</td>\n",
       "      <td>34.466667</td>\n",
       "      <td>12.350000</td>\n",
       "      <td>Personal</td>\n",
       "      <td>Completado</td>\n",
       "      <td>d59d2bb716c503bcb87ea049ef9b5b04c85ddee9731254...</td>\n",
       "    </tr>\n",
       "    <tr>\n",
       "      <th>1</th>\n",
       "      <td>2024</td>\n",
       "      <td>1</td>\n",
       "      <td>2</td>\n",
       "      <td>10</td>\n",
       "      <td>10:41:01.210000</td>\n",
       "      <td>2024-01-02</td>\n",
       "      <td>2024-01-02 10:41:01.210</td>\n",
       "      <td>2633c62c47bcb340cdc26b1a8275882a53abd7ba26e53f...</td>\n",
       "      <td>Caja</td>\n",
       "      <td>Caja Preferencial</td>\n",
       "      <td>Caja Preferencial- Prioritaria</td>\n",
       "      <td>95.083333</td>\n",
       "      <td>9.950000</td>\n",
       "      <td>Personal Plus</td>\n",
       "      <td>Completado</td>\n",
       "      <td>09c9a38a05f3d4da9e50171d4bb427f41d6ea41c36033a...</td>\n",
       "    </tr>\n",
       "    <tr>\n",
       "      <th>2</th>\n",
       "      <td>2024</td>\n",
       "      <td>1</td>\n",
       "      <td>2</td>\n",
       "      <td>10</td>\n",
       "      <td>10:32:09.927000</td>\n",
       "      <td>2024-01-02</td>\n",
       "      <td>2024-01-02 10:32:09.927</td>\n",
       "      <td>7ddd4eba0e042e4f871fe07bfa3a3583b87742cd9e75d0...</td>\n",
       "      <td>Caja</td>\n",
       "      <td>Caja Turnos</td>\n",
       "      <td>Caja Turnos</td>\n",
       "      <td>79.033333</td>\n",
       "      <td>15.783333</td>\n",
       "      <td>Personal Plus</td>\n",
       "      <td>Completado</td>\n",
       "      <td>fcb5913f0c577ecc93ab6faa2b7570b5da0e7368be5500...</td>\n",
       "    </tr>\n",
       "    <tr>\n",
       "      <th>3</th>\n",
       "      <td>2024</td>\n",
       "      <td>1</td>\n",
       "      <td>2</td>\n",
       "      <td>16</td>\n",
       "      <td>16:53:11.423000</td>\n",
       "      <td>2024-01-02</td>\n",
       "      <td>2024-01-02 16:53:11.423</td>\n",
       "      <td>d17eacbf24cc24c5cbf46802a4fde31a105b8bcf48dee1...</td>\n",
       "      <td>Caja</td>\n",
       "      <td>Caja General</td>\n",
       "      <td>Caja General</td>\n",
       "      <td>64.200000</td>\n",
       "      <td>7.083333</td>\n",
       "      <td>Personal Plus</td>\n",
       "      <td>Abandonado</td>\n",
       "      <td>6024bbfafbaf5e532869e12cbd5c035f0913a6f329a89e...</td>\n",
       "    </tr>\n",
       "    <tr>\n",
       "      <th>4</th>\n",
       "      <td>2024</td>\n",
       "      <td>1</td>\n",
       "      <td>2</td>\n",
       "      <td>12</td>\n",
       "      <td>12:05:27.163000</td>\n",
       "      <td>2024-01-02</td>\n",
       "      <td>2024-01-02 12:05:27.163</td>\n",
       "      <td>dcbda5f62dc9fd403e14293616101db34cdd730467d341...</td>\n",
       "      <td>Caja</td>\n",
       "      <td>Caja General</td>\n",
       "      <td>Caja General</td>\n",
       "      <td>158.683333</td>\n",
       "      <td>7.083333</td>\n",
       "      <td>Micropyme</td>\n",
       "      <td>Abandonado</td>\n",
       "      <td>b1a5fa46436fa2cd8f9b66d10762c25e780d956fef140a...</td>\n",
       "    </tr>\n",
       "    <tr>\n",
       "      <th>5</th>\n",
       "      <td>2024</td>\n",
       "      <td>1</td>\n",
       "      <td>2</td>\n",
       "      <td>11</td>\n",
       "      <td>11:13:48.200000</td>\n",
       "      <td>2024-01-02</td>\n",
       "      <td>2024-01-02 11:13:48.200</td>\n",
       "      <td>32e9a5f30076851341708ec0e696b3e15c8c121266c1a3...</td>\n",
       "      <td>Asesoria</td>\n",
       "      <td>Asesoria General</td>\n",
       "      <td>Asesoria General</td>\n",
       "      <td>18.966667</td>\n",
       "      <td>29.300000</td>\n",
       "      <td>Personal Plus</td>\n",
       "      <td>Completado</td>\n",
       "      <td>94c3e593da40d88fba9d15fbabe8e8739ef48b43977cb0...</td>\n",
       "    </tr>\n",
       "    <tr>\n",
       "      <th>6</th>\n",
       "      <td>2024</td>\n",
       "      <td>1</td>\n",
       "      <td>2</td>\n",
       "      <td>11</td>\n",
       "      <td>11:48:36.887000</td>\n",
       "      <td>2024-01-02</td>\n",
       "      <td>2024-01-02 11:48:36.887</td>\n",
       "      <td>Sin Registro</td>\n",
       "      <td>Asesoria</td>\n",
       "      <td>Asesoria General</td>\n",
       "      <td>Asesoria General</td>\n",
       "      <td>71.866667</td>\n",
       "      <td>18.066667</td>\n",
       "      <td>Sin Segm</td>\n",
       "      <td>Abandonado</td>\n",
       "      <td>0ab716b5568ea21c8e27bb2a9718e54fbae14db05bdd9c...</td>\n",
       "    </tr>\n",
       "    <tr>\n",
       "      <th>7</th>\n",
       "      <td>2024</td>\n",
       "      <td>1</td>\n",
       "      <td>2</td>\n",
       "      <td>11</td>\n",
       "      <td>11:37:45.423000</td>\n",
       "      <td>2024-01-02</td>\n",
       "      <td>2024-01-02 11:37:45.423</td>\n",
       "      <td>6c1367153a9b7028ed4c57a894eb0c8812cf37f6867dfa...</td>\n",
       "      <td>Caja</td>\n",
       "      <td>Caja General</td>\n",
       "      <td>Caja General</td>\n",
       "      <td>141.833333</td>\n",
       "      <td>7.083333</td>\n",
       "      <td>Personal</td>\n",
       "      <td>Abandonado</td>\n",
       "      <td>7e177fbd1bc426c39382bfe3e9e4fd8bd544331e40c258...</td>\n",
       "    </tr>\n",
       "    <tr>\n",
       "      <th>8</th>\n",
       "      <td>2024</td>\n",
       "      <td>1</td>\n",
       "      <td>2</td>\n",
       "      <td>13</td>\n",
       "      <td>13:57:15.933000</td>\n",
       "      <td>2024-01-02</td>\n",
       "      <td>2024-01-02 13:57:15.933</td>\n",
       "      <td>Sin Registro</td>\n",
       "      <td>Asesoria</td>\n",
       "      <td>Asesoria General</td>\n",
       "      <td>Asesoria General</td>\n",
       "      <td>4.233333</td>\n",
       "      <td>13.166667</td>\n",
       "      <td>Sin Segm</td>\n",
       "      <td>Completado</td>\n",
       "      <td>d347d63c9410d8f5ec7b0bd9da76259be4e70dfce00d2a...</td>\n",
       "    </tr>\n",
       "    <tr>\n",
       "      <th>9</th>\n",
       "      <td>2024</td>\n",
       "      <td>1</td>\n",
       "      <td>2</td>\n",
       "      <td>12</td>\n",
       "      <td>12:36:12.567000</td>\n",
       "      <td>2024-01-02</td>\n",
       "      <td>2024-01-02 12:36:12.567</td>\n",
       "      <td>e43a176c4bf7c866abfe6842a393e361b99d910c9afb24...</td>\n",
       "      <td>Asesoria</td>\n",
       "      <td>Asesoria Turnos</td>\n",
       "      <td>Asesoria Turnos</td>\n",
       "      <td>38.833333</td>\n",
       "      <td>18.066667</td>\n",
       "      <td>Personal</td>\n",
       "      <td>Abandonado</td>\n",
       "      <td>8e3150ffcb983a3f2f670c6e136bd826b93bf78ea62f79...</td>\n",
       "    </tr>\n",
       "  </tbody>\n",
       "</table>\n",
       "</div>"
      ],
      "text/plain": [
       "   year  month  day  hora_num         hora_str       fecha  \\\n",
       "0  2024      1    2        15  15:34:36.593000  2024-01-02   \n",
       "1  2024      1    2        10  10:41:01.210000  2024-01-02   \n",
       "2  2024      1    2        10  10:32:09.927000  2024-01-02   \n",
       "3  2024      1    2        16  16:53:11.423000  2024-01-02   \n",
       "4  2024      1    2        12  12:05:27.163000  2024-01-02   \n",
       "5  2024      1    2        11  11:13:48.200000  2024-01-02   \n",
       "6  2024      1    2        11  11:48:36.887000  2024-01-02   \n",
       "7  2024      1    2        11  11:37:45.423000  2024-01-02   \n",
       "8  2024      1    2        13  13:57:15.933000  2024-01-02   \n",
       "9  2024      1    2        12  12:36:12.567000  2024-01-02   \n",
       "\n",
       "            fecha_completa                                 usuario_encriptado  \\\n",
       "0  2024-01-02 15:34:36.593  20aed4d067c167cbddd3068cc704ff0068bfaef2c1186f...   \n",
       "1  2024-01-02 10:41:01.210  2633c62c47bcb340cdc26b1a8275882a53abd7ba26e53f...   \n",
       "2  2024-01-02 10:32:09.927  7ddd4eba0e042e4f871fe07bfa3a3583b87742cd9e75d0...   \n",
       "3  2024-01-02 16:53:11.423  d17eacbf24cc24c5cbf46802a4fde31a105b8bcf48dee1...   \n",
       "4  2024-01-02 12:05:27.163  dcbda5f62dc9fd403e14293616101db34cdd730467d341...   \n",
       "5  2024-01-02 11:13:48.200  32e9a5f30076851341708ec0e696b3e15c8c121266c1a3...   \n",
       "6  2024-01-02 11:48:36.887                                       Sin Registro   \n",
       "7  2024-01-02 11:37:45.423  6c1367153a9b7028ed4c57a894eb0c8812cf37f6867dfa...   \n",
       "8  2024-01-02 13:57:15.933                                       Sin Registro   \n",
       "9  2024-01-02 12:36:12.567  e43a176c4bf7c866abfe6842a393e361b99d910c9afb24...   \n",
       "\n",
       "  tipo_servicio           servicio                    sub_servicio  \\\n",
       "0      Asesoria   Asesoria General                Asesoria General   \n",
       "1          Caja  Caja Preferencial  Caja Preferencial- Prioritaria   \n",
       "2          Caja       Caja Turnos                      Caja Turnos   \n",
       "3          Caja       Caja General                    Caja General   \n",
       "4          Caja       Caja General                    Caja General   \n",
       "5      Asesoria   Asesoria General                Asesoria General   \n",
       "6      Asesoria   Asesoria General                Asesoria General   \n",
       "7          Caja       Caja General                    Caja General   \n",
       "8      Asesoria   Asesoria General                Asesoria General   \n",
       "9      Asesoria    Asesoria Turnos                 Asesoria Turnos   \n",
       "\n",
       "   tiempo_espera  tiempo_servicio           segm estado_caso  \\\n",
       "0      34.466667        12.350000       Personal  Completado   \n",
       "1      95.083333         9.950000  Personal Plus  Completado   \n",
       "2      79.033333        15.783333  Personal Plus  Completado   \n",
       "3      64.200000         7.083333  Personal Plus  Abandonado   \n",
       "4     158.683333         7.083333      Micropyme  Abandonado   \n",
       "5      18.966667        29.300000  Personal Plus  Completado   \n",
       "6      71.866667        18.066667       Sin Segm  Abandonado   \n",
       "7     141.833333         7.083333       Personal  Abandonado   \n",
       "8       4.233333        13.166667       Sin Segm  Completado   \n",
       "9      38.833333        18.066667       Personal  Abandonado   \n",
       "\n",
       "                                   asesor_encriptado  \n",
       "0  d59d2bb716c503bcb87ea049ef9b5b04c85ddee9731254...  \n",
       "1  09c9a38a05f3d4da9e50171d4bb427f41d6ea41c36033a...  \n",
       "2  fcb5913f0c577ecc93ab6faa2b7570b5da0e7368be5500...  \n",
       "3  6024bbfafbaf5e532869e12cbd5c035f0913a6f329a89e...  \n",
       "4  b1a5fa46436fa2cd8f9b66d10762c25e780d956fef140a...  \n",
       "5  94c3e593da40d88fba9d15fbabe8e8739ef48b43977cb0...  \n",
       "6  0ab716b5568ea21c8e27bb2a9718e54fbae14db05bdd9c...  \n",
       "7  7e177fbd1bc426c39382bfe3e9e4fd8bd544331e40c258...  \n",
       "8  d347d63c9410d8f5ec7b0bd9da76259be4e70dfce00d2a...  \n",
       "9  8e3150ffcb983a3f2f670c6e136bd826b93bf78ea62f79...  "
      ]
     },
     "execution_count": 22,
     "metadata": {},
     "output_type": "execute_result"
    }
   ],
   "source": [
    "dataframe = pd.read_csv('../files/input/datos_sucursal_imputado.csv')\n",
    "dataframe.head(10)"
   ]
  },
  {
   "cell_type": "code",
   "execution_count": null,
   "id": "8069a290",
   "metadata": {},
   "outputs": [
    {
     "name": "stdout",
     "output_type": "stream",
     "text": [
      "\n",
      "⏱ Tiempos promedio por tipo de servicio:\n",
      "                      tiempo_espera  tiempo_servicio\n",
      "tipo_servicio                                       \n",
      "Canales Alternativos      45.961504        19.302381\n",
      "Caja                      36.390573         9.603720\n",
      "Asesoria                  25.634616        22.332338\n"
     ]
    }
   ],
   "source": [
    "print(\"\\n⏱ Tiempos promedio por tipo de servicio:\")\n",
    "print(dataframe1.groupby('tipo_servicio')[['tiempo_espera', 'tiempo_servicio']].mean().sort_values(by='tiempo_espera', ascending=False))"
   ]
  },
  {
   "cell_type": "code",
   "execution_count": 23,
   "metadata": {},
   "outputs": [
    {
     "data": {
      "text/plain": [
       "year                    int64\n",
       "month                   int64\n",
       "day                     int64\n",
       "hora_num                int64\n",
       "hora_str               object\n",
       "fecha                  object\n",
       "fecha_completa         object\n",
       "usuario_encriptado     object\n",
       "tipo_servicio          object\n",
       "servicio               object\n",
       "sub_servicio           object\n",
       "tiempo_espera         float64\n",
       "tiempo_servicio       float64\n",
       "segm                   object\n",
       "estado_caso            object\n",
       "asesor_encriptado      object\n",
       "dtype: object"
      ]
     },
     "execution_count": 23,
     "metadata": {},
     "output_type": "execute_result"
    }
   ],
   "source": [
    "dataframe.dtypes"
   ]
  },
  {
   "cell_type": "code",
   "execution_count": 24,
   "id": "dd9fa08d",
   "metadata": {},
   "outputs": [],
   "source": [
    "dataframe['fecha'] = pd.to_datetime(dataframe['fecha'], errors='coerce')\n",
    "dataframe['fecha_completa'] = pd.to_datetime(dataframe['fecha_completa'], errors='coerce')"
   ]
  },
  {
   "cell_type": "markdown",
   "id": "6436ec45",
   "metadata": {},
   "source": [
    "### *Descripción de variables después de la imputación y manejo de datos .csv inicial, en el orden indicado:*\n",
    "\n",
    "* **year, month, day**: Año, mes y día en que ocurrió la atención. Se usan para análisis temporal.\n",
    "* **hora\\_num**: Hora del día (en formato numérico) en la que el cliente fue atendido.\n",
    "* **hora\\_str**: Hora completa en formato texto, incluyendo minutos y segundos.\n",
    "* **fecha**: Fecha de atención en formato \"YYYY-MM-DD\".\n",
    "* **fecha\\_completa**: Fecha y hora exacta en la que se registró la atención.\n",
    "* **usuario\\_encriptado**: Identificador único del cliente, encriptado por razones de privacidad.\n",
    "* **tipo\\_servicio**: Categoría general del servicio solicitado (por ejemplo: \"Caja\", \"Asesoría\").\n",
    "* **servicio**: Tipo de servicio específico dentro del tipo general.\n",
    "* **sub\\_servicio**: Nivel más detallado del servicio brindado.\n",
    "* **tiempo\\_espera**: Minutos que el cliente esperó antes de ser atendido.\n",
    "* **tiempo\\_servicio**: Minutos que duró la atención del cliente.\n",
    "* **segm**: Segmento del cliente (por ejemplo: \"Personal\", \"Micropyme\", \"Personal Plus\", etc).\n",
    "* **estado\\_caso**: Resultado del caso: si fue **Completado** o **Abandonado**.\n",
    "* **asesor\\_encriptado**: Identificador único del asesor que atendió, también encriptado.\n"
   ]
  },
  {
   "cell_type": "markdown",
   "id": "584e0ec9",
   "metadata": {},
   "source": [
    "## **Respuestas a preguntas propuestas**"
   ]
  },
  {
   "cell_type": "markdown",
   "id": "031dc8a0",
   "metadata": {},
   "source": [
    "### **Pregunta 1**\n",
    "Explora el comportamiento general de la atención en la sucursal. Realiza un análisis descriptivo de los datos. Puedes explorar variables como tiempos de espera, tiempos de atención, diferencias entre tipos de servicio, segmentos de clientes, franjas horarias, entre otros. ¿Qué patrones o hallazgos relevantes encuentras?\n"
   ]
  },
  {
   "cell_type": "code",
   "execution_count": null,
   "id": "15a837c7",
   "metadata": {},
   "outputs": [
    {
     "name": "stdout",
     "output_type": "stream",
     "text": [
      "▶️ Estadísticas de tiempo (espera y servicio):\n",
      "       tiempo_espera  tiempo_servicio\n",
      "count  100000.000000    100000.000000\n",
      "mean       33.340024        12.682781\n",
      "std        28.974626        12.486444\n",
      "min         0.000000         0.000000\n",
      "25%         9.866667         5.433333\n",
      "50%        26.566667         7.716667\n",
      "75%        49.083333        17.316667\n",
      "max       192.150000       195.033333\n"
     ]
    }
   ],
   "source": [
    "# Estadísticas generales de Tiempos de atención y espera\n",
    "print(\"▶️ Estadísticas de tiempo (espera y servicio):\")\n",
    "print(dataframe[['tiempo_espera', 'tiempo_servicio']].describe())"
   ]
  },
  {
   "cell_type": "markdown",
   "id": "a1b522b8",
   "metadata": {},
   "source": [
    "✅ 1. **Tiempos de atención y espera**\n",
    "\n",
    "| Estimador            | Tiempo (min) |\n",
    "| -------------------- | ------------ |\n",
    "| Espera promedio      | \\~33.3 min   |\n",
    "| Servicio promedio    | \\~12.6 min   |\n",
    "| Tiempo máximo espera | ~192.2 min   |\n",
    "| Tiempo máximo serv.  | ~195 min     |\n",
    "\n",
    "\n",
    "Existen registros de clientes con tiempos de espera de hasta **3.2 horas**. Esta cifra sugiere posibles cuellos de botella en el proceso, clientes que se registran y no cancelan su turno, o incluso errores en la recopilación de datos.\n",
    "\n",
    "Es crucial destacar este valor máximo debido a la **distribución asimétrica** de los tiempos de espera. Como se observa tanto en la tabla como en el gráfico del notebook \"imputacion-pandas\", la distribución presenta una **cola derecha pronunciada**. Esta característica se confirma visualmente y en la tabla, donde el tercer cuartil (P75) está significativamente alejado del valor máximo.\n",
    "\n",
    "Esta asimetría implica que la **media de los tiempos de espera podría estar inflada** por estos valores atípicos, lo que la convierte en un estimador poco confiable en este contexto. Por lo tanto, se utilizará la **mediana** como medida central para evitar la influencia de estos valores extremos y obtener una representación más precisa del tiempo de espera típico de los clientes.\n",
    "\n",
    "**Análisis de tiempos mínimos (valor 0):**\n",
    "- Los tiempos mínimos en 0 para ambos casos podrían estar relacionados con:\n",
    "  - Errores de recopilación de información\n",
    "  - Pérdida de información por inexactitud en el registro temporal\n",
    "- **Recomendación:** Estos datos no deberían imputarse hasta confirmar el método de recolección\n",
    "- **Volumen de casos:** 62 turnos con tiempo de espera = 0 y 35 con tiempo de servicio = 0\n",
    "- Esta cantidad no es tan relevante considerando el total de 100.000 observaciones (0.0006% y 0.00035% respectivamente)"
   ]
  },
  {
   "cell_type": "code",
   "execution_count": 31,
   "id": "e200f65b",
   "metadata": {},
   "outputs": [
    {
     "name": "stdout",
     "output_type": "stream",
     "text": [
      "\n",
      "📊 Tasa de estado del caso:\n",
      "estado_caso\n",
      "Completado    85.799\n",
      "Abandonado    14.199\n",
      "Abortado       0.002\n",
      "Name: proportion, dtype: float64\n"
     ]
    }
   ],
   "source": [
    "# Tasa de abandono\n",
    "print(\"\\n📊 Tasa de estado del caso:\")\n",
    "print(dataframe['estado_caso'].value_counts(normalize=True) * 100)"
   ]
  },
  {
   "cell_type": "markdown",
   "id": "2acfed03",
   "metadata": {},
   "source": [
    "✅ 2. **Tasa de abandono**\n",
    "\n",
    "* **85.8%** de los turnos fueron **Completados**, pero **14.2% fueron Abandonados**, lo cual es significativo en el contexto que se está trabajando.\n",
    "* Además, hay 0.002% de casos **\"Abortados\"**.\n",
    "\n",
    "Así, priorizar el análisis de causas para el 14.2% de abandono es importante, resultan preguntas como: ¿tiempo de espera?, ¿hora del día?, ¿segmento del cliente?, ¿tipo de servicio?"
   ]
  },
  {
   "cell_type": "code",
   "execution_count": null,
   "id": "6e1770e1",
   "metadata": {},
   "outputs": [
    {
     "name": "stdout",
     "output_type": "stream",
     "text": [
      "\n",
      "⏱ Tiempos *medianos* y total por tipo de servicio:\n",
      "                      tiempo_espera  tiempo_servicio  total_servicios\n",
      "tipo_servicio                                                        \n",
      "Canales Alternativos      42.675000         0.366667             1566\n",
      "Caja                      29.233333         7.083333            68798\n",
      "Asesoria                  19.625000        18.066667            29636\n"
     ]
    }
   ],
   "source": [
    "## Diferencias de tiempos entre tipos de servicio\n",
    "print(\"\\n⏱ Tiempos *medianos* y total por tipo de servicio:\")\n",
    "medianas = dataframe.groupby('tipo_servicio')[['tiempo_espera', 'tiempo_servicio']].median()\n",
    "totales = dataframe['tipo_servicio'].value_counts().rename(\"total_servicios\")\n",
    "\n",
    "resumen = medianas.join(totales)\n",
    "resumen = resumen.sort_values(by='tiempo_espera', ascending=False)\n",
    "\n",
    "print(resumen)"
   ]
  },
  {
   "cell_type": "markdown",
   "id": "680d0be9",
   "metadata": {},
   "source": [
    "✅ 3. **Diferencias entre tipos de servicio**\n",
    "\n",
    "| Tipo de Servicio         | Espera Prom.   | Servicio Prom. |\n",
    "| ------------------------ | ------------   | -------------- |\n",
    "| **Canales Alternativos** | **42.7 min**   | 0.37 min       |\n",
    "| **Caja**                 | 29.2 min       | 7.1 min        |\n",
    "| **Asesoría**             | 19.6 min       | **18.1 min**   |\n",
    "\n",
    "* **Asesoría** tiene la **atención más larga**, pero también **menores tiempos de espera**.\n",
    "* **Caja** es el más solicitado, con atención rápida pero espera más alta.\n",
    "* **Canales Alternativos** tienen la mayor espera y una menor atención, por lo que se tendría que revisar qué trámites incluyen estos.\n",
    "Esto puede indicar:\n",
    "\n",
    "   * Problemas de gestión de turnos (¿automatización no detecta que se completó?).\n",
    "   * Clientes que abandonan antes de ser atendidos, pero no se registran como tal.\n",
    "   * Falta de marcación efectiva del cierre del servicio."
   ]
  },
  {
   "cell_type": "code",
   "execution_count": 49,
   "id": "74538204",
   "metadata": {},
   "outputs": [
    {
     "name": "stdout",
     "output_type": "stream",
     "text": [
      "\n",
      "📎 Tiempos promedio y total por segmento:\n",
      "                         tiempo_espera  tiempo_servicio  total_segmento\n",
      "segm                                                                   \n",
      "Personal                     34.422484        12.310779           44604\n",
      "Personal Plus                33.735824        12.351671           25449\n",
      "Micropyme                    35.650567        11.906835           10163\n",
      "Sin Segm                     31.043840        15.850521            7129\n",
      "Pyme                         31.478522        14.233527            5073\n",
      "Preferencial                 22.032442        12.133208            5039\n",
      "Segmento Social              33.510126        15.234456            2152\n",
      "Empresarial                  34.172051        13.702500             260\n",
      "Corporativo                  37.476965         8.294986             123\n",
      "Constructor Corporativo      28.837500        11.895833               4\n",
      "Constructor Pyme              6.825000        19.108333               2\n",
      "Gobierno De Red               0.750000        11.858333               2\n"
     ]
    }
   ],
   "source": [
    "## Diferencias de tiempos por segmento\n",
    "print(\"\\n📎 Tiempos promedio y total por segmento:\")\n",
    "promedios = dataframe.groupby('segm')[['tiempo_espera', 'tiempo_servicio']].mean()\n",
    "totales = dataframe['segm'].value_counts().rename(\"total_segmento\")\n",
    "\n",
    "resumen_seg = promedios.join(totales)\n",
    "resumen_seg = resumen_seg.sort_values(by='total_segmento', ascending=False)\n",
    "\n",
    "print(resumen_seg)"
   ]
  },
  {
   "cell_type": "markdown",
   "id": "d3cca268",
   "metadata": {},
   "source": [
    "✅ 4. **Diferencias de tiempos por segmento**\n",
    "\n",
    "Los segmentos **Personal**, **Personal Plus** y **Micropyme** concentran la mayor cantidad de atenciones, con tiempos de espera similares (33–36 min) y tiempos de servicio entre 11 y 12 min. Esto indica que son el foco operativo principal de la sucursal.\n",
    "\n",
    "En contraste, los segmentos **Constructor Pyme**, **Gobierno De Red** y **Constructor Corporativo** tienen una participación mínima y tiempos atípicos: desde apenas **0.75 min** de espera hasta **19 min** de servicio, lo que muestra atenciones esporádicas y posiblemente agendadas o de baja complejidad."
   ]
  },
  {
   "cell_type": "code",
   "execution_count": null,
   "id": "77d859d8",
   "metadata": {},
   "outputs": [
    {
     "name": "stdout",
     "output_type": "stream",
     "text": [
      "\n",
      "⏰ Atenciones por hora del día (con porcentajes):\n",
      "          atenciones  porcentaje\n",
      "hora_num                        \n",
      "8               2551        2.55\n",
      "9              13867       13.87\n",
      "10             12956       12.96\n",
      "11             13698       13.70\n",
      "12             10251       10.25\n",
      "13              9133        9.13\n",
      "14             10264       10.26\n",
      "15             11471       11.47\n",
      "16             10760       10.76\n",
      "17              4795        4.80\n",
      "18               250        0.25\n",
      "19                 4        0.00\n"
     ]
    }
   ],
   "source": [
    "## Franja horaria: demanda por hora del día\n",
    "print(\"\\n⏰ Atenciones por hora del día (con porcentajes):\")\n",
    "conteo = dataframe['hora_num'].value_counts().sort_index()\n",
    "porcentaje = dataframe['hora_num'].value_counts(normalize=True).sort_index() * 100\n",
    "\n",
    "volumen_horario = pd.DataFrame({\n",
    "    'atenciones': conteo,\n",
    "    'porcentaje': porcentaje.round(2)\n",
    "})\n",
    "\n",
    "print(volumen_horario)"
   ]
  },
  {
   "cell_type": "markdown",
   "id": "b44d3912",
   "metadata": {},
   "source": [
    "✅ 5. **Franja horaria: demanda por hora del día**\n",
    "\n",
    "| Hora     | Porcentaje de atenciones |\n",
    "| -------- | ---------------------    |\n",
    "| **9 AM** | 13.9% (hora pico)        |\n",
    "| 10–11 AM | 12.9%–13.7%              |\n",
    "| 12–2 PM  | 10–10.2%                 |\n",
    "| 4 PM+    | 4% o menos               |\n",
    "\n",
    "\n",
    "El mayor movimiento dentro de la sucursal se concentra la demanda entre **9:00 y 11:00 AM**, siendo la franja crítica para toma de decisiones operativas.\n",
    "\n",
    "\n",
    "\n"
   ]
  },
  {
   "cell_type": "markdown",
   "id": "09441d93",
   "metadata": {},
   "source": [
    "✅ 6. **Visión general**\n",
    "\n",
    "* **Distribución sesgada a la derecha**: muchos clientes esperan < 40 min, pero hay una cola larga de espera extrema.\n",
    "* Outliers con esperas > 2 horas: deberían auditarse (¿error del sistema?, ¿cliente ausente?, ¿mal manejo del turno?).\n",
    "\n",
    "**Recomendaciones generales**\n",
    "\n",
    "| Enfoque                       | Acción                                                               |\n",
    "| ----------------------------- | -------------------------------------------------------------------- |\n",
    "| **Cliente**                   | Reducir espera en Caja y Canales Alternativos                        |\n",
    "| **Atención prioritaria**      | Reforzar personal entre 9:00–11:00 AM                                |\n",
    "| **Redistribución digital**    | Analizar qué servicios de caja y asesoría pueden irse a canales web u otros medios  |\n",
    "| **Tasa de abandono**          | Investigar causas con modelado predictivo (hora, segmento, servicio) |\n",
    "| **Análisis operativo futuro** | Simular escenarios de más personal por franja para medir impacto     |"
   ]
  },
  {
   "cell_type": "markdown",
   "id": "9f719689",
   "metadata": {},
   "source": [
    "### **Pregunta 2**\n",
    "Analiza los casos abandonados. Investiga las características de los casos que no fueron completados. ¿Qué factores parecen estar asociados a los abandonos? Puedes considerar variables como el tipo de servicio, el segmento del cliente, la hora del día, o el tiempo de espera. Propón visualizaciones o métricas que ayuden a entender este fenómeno.\n"
   ]
  },
  {
   "cell_type": "code",
   "execution_count": null,
   "id": "69d4683b",
   "metadata": {},
   "outputs": [],
   "source": [
    "abandonados = dataframe[dataframe['estado_caso'] == \"Abandonado\"]\n",
    "completados = dataframe[dataframe['estado_caso'] == \"Completado\"]\n",
    "\n",
    "abandono_por_servicio = dataframe.groupby('tipo_servicio')['estado_caso'].value_counts(normalize=True).unstack().fillna(0)['Abandonado'] * 100\n",
    "abandono_por_segmento = dataframe.groupby('segm')['estado_caso'].value_counts(normalize=True).unstack().fillna(0)['Abandonado'] * 100\n",
    "abandono_por_hora = dataframe.groupby('hora_num')['estado_caso'].value_counts(normalize=True).unstack().fillna(0)['Abandonado'] * 100\n",
    "\n",
    "espera_abandonados = abandonados['tiempo_espera']\n",
    "espera_completados = completados['tiempo_espera']"
   ]
  },
  {
   "cell_type": "code",
   "execution_count": null,
   "id": "609adfea",
   "metadata": {},
   "outputs": [
    {
     "name": "stdout",
     "output_type": "stream",
     "text": [
      "\n",
      "📊 Resumen de tiempos de espera:\n",
      "            Promedio Espera  Mediana Espera  Desviación Estándar  \\\n",
      "Completado        30.642674       24.083333             27.09314   \n",
      "Abandonado        49.643510       45.383333             34.16508   \n",
      "\n",
      "            Total Servicios  \n",
      "Completado            85799  \n",
      "Abandonado            14199  \n"
     ]
    }
   ],
   "source": [
    "# Resumen de los tiempos de espera con total y desviación estándar\n",
    "resumen_espera = pd.DataFrame({\n",
    "    'Promedio Espera': [espera_completados.mean(), espera_abandonados.mean()],\n",
    "    'Mediana Espera': [espera_completados.median(), espera_abandonados.median()],\n",
    "    'Desviación Estándar': [espera_completados.std(), espera_abandonados.std()],\n",
    "    'Total Servicios': [len(espera_completados), len(espera_abandonados)]\n",
    "}, index=['Completado', 'Abandonado'])\n",
    "\n",
    "print(\"\\n📊 Resumen de tiempos de espera:\")\n",
    "print(resumen_espera)"
   ]
  },
  {
   "cell_type": "markdown",
   "id": "e477bc86",
   "metadata": {},
   "source": [
    "✅ **Conclusión sobre los tiempos de espera y abandono**\n",
    "\n",
    "Los clientes que **abandonan** presentan un **tiempo de espera promedio y medianamente mayor** que los que completan su atención (49.6 vs. 30.6 min), y también una **mayor variabilidad** en su espera (desviación estándar de 34.2 min).\n",
    "\n",
    "Además, mientras que el **85.8% de los turnos se completan**, un **14.2% se abandona**, lo cual no es menor en estas operaciones.\n",
    "\n",
    "Así, se confirma que **el tiempo de espera es un factor crítico asociado al abandono**, especialmente cuando supera los 40 minutos.\n"
   ]
  },
  {
   "cell_type": "code",
   "execution_count": 132,
   "id": "e071f2c8",
   "metadata": {},
   "outputs": [
    {
     "data": {
      "image/png": "[encoded data removed]",
      "text/plain": [
       "<Figure size 800x500 with 1 Axes>"
      ]
     },
     "metadata": {},
     "output_type": "display_data"
    }
   ],
   "source": [
    "# Visualización de comparación de tiempos de espera\n",
    "import matplotlib.pyplot as plt\n",
    "import seaborn as sns\n",
    "\n",
    "plt.figure(figsize=(8, 5))\n",
    "sns.kdeplot(espera_completados.dropna(), label=\"Completados\", color=\"green\")\n",
    "sns.kdeplot(espera_abandonados.dropna(), label=\"Abandonados\", color=\"red\")\n",
    "plt.title(\"Comparación de Tiempos de Espera - Completados vs Abandonados\")\n",
    "plt.xlabel(\"Tiempo de Espera (min)\")\n",
    "plt.legend()\n",
    "plt.grid(True)\n",
    "plt.tight_layout()\n",
    "plt.show()\n",
    "\n",
    "# Guardar el gráfico\n",
    "plt.savefig(\"../files/tiempos_espera_abandono_completado.png\", dpi=300)\n",
    "plt.close()"
   ]
  },
  {
   "cell_type": "markdown",
   "id": "ebdfc8dd",
   "metadata": {},
   "source": [
    "Se observa que los clientes que completan su atención tienden a hacerlo tras esperas cortas, con un pico marcado alrededor de los 5 a 15 minutos. En cambio, los clientes que abandonan tienen una distribución desplazada hacia la derecha, con un mayor peso a partir de los 30 minutos, y una cola larga que se extiende hasta los 150 minutos o más.\n",
    "\n",
    "*Esto muestra que a medida que aumenta el tiempo de espera, la probabilidad de abandono crece considerablemente, especialmente a partir de los 25–30 minutos.*"
   ]
  },
  {
   "cell_type": "code",
   "execution_count": 65,
   "id": "d296335f",
   "metadata": {},
   "outputs": [
    {
     "name": "stdout",
     "output_type": "stream",
     "text": [
      "\n",
      "📊 Porcentaje de abandono por servicio:\n",
      "tipo_servicio\n",
      "Caja                    15.198116\n",
      "Asesoria                12.542178\n",
      "Canales Alternativos     1.660281\n",
      "Name: Abandonado, dtype: float64\n"
     ]
    }
   ],
   "source": [
    "## Porcentaje de abandono por servicio\n",
    "print(\"\\n📊 Porcentaje de abandono por servicio:\")\n",
    "print(abandono_por_servicio.sort_values(ascending=False))"
   ]
  },
  {
   "cell_type": "markdown",
   "id": "8e9dbc8b",
   "metadata": {},
   "source": [
    "La Caja concentra la mayoría de abandonos. Canales Alternativos muestran bajo abandono, pero esto puede estar sesgado si el tiempo de atención no se registra adecuadamente como se mencionó en el análisis anterior."
   ]
  },
  {
   "cell_type": "code",
   "execution_count": 66,
   "id": "c8e23581",
   "metadata": {},
   "outputs": [
    {
     "name": "stdout",
     "output_type": "stream",
     "text": [
      "\n",
      "📊 Porcentaje de abandono por segmento:\n",
      "segm\n",
      "Corporativo                20.325203\n",
      "Pyme                       16.026020\n",
      "Empresarial                15.769231\n",
      "Micropyme                  15.349798\n",
      "Personal Plus              14.735353\n",
      "Sin Segm                   14.504138\n",
      "Segmento Social            14.079926\n",
      "Personal                   13.754372\n",
      "Preferencial               10.676722\n",
      "Constructor Pyme            0.000000\n",
      "Constructor Corporativo     0.000000\n",
      "Gobierno De Red             0.000000\n",
      "Name: Abandonado, dtype: float64\n"
     ]
    }
   ],
   "source": [
    "## Porcentaje de abandono por segmento\n",
    "print(\"\\n📊 Porcentaje de abandono por segmento:\")\n",
    "print(abandono_por_segmento.sort_values(ascending=False))"
   ]
  },
  {
   "cell_type": "markdown",
   "id": "df23ad71",
   "metadata": {},
   "source": [
    "| Segmento                     | % Abandono |\n",
    "| ---------------------------- | ---------- |\n",
    "| **Corporativo**              | **20.3%**  |\n",
    "| Pyme, Empresarial, Micropyme | 15–16%     |\n",
    "| Personal, Personal Plus      | \\~14%      |\n",
    "| **Preferencial**             | 10.7%      |\n",
    "\n",
    "Los segmentos Corporativo y Pyme tienen mayores tasas de abandono, teniendo en cuenta que el volumen de estos es bajo, se debe dar prioridad a los segmentos con mayor cantidad de usuarios como lo son Personal, Personal Plus y Micropyme, que representarían una frecuencia absoluta mayor a los demás."
   ]
  },
  {
   "cell_type": "code",
   "execution_count": 70,
   "id": "6aaacea8",
   "metadata": {},
   "outputs": [
    {
     "name": "stdout",
     "output_type": "stream",
     "text": [
      "\n",
      "📊 Porcentaje de abandono por hora:\n",
      "hora_num\n",
      "19    25.00\n",
      "12    17.65\n",
      "13    17.63\n",
      "17    15.85\n",
      "14    15.54\n",
      "15    14.83\n",
      "16    14.63\n",
      "11    13.86\n",
      "10    13.45\n",
      "18    11.20\n",
      "9      9.94\n",
      "8      3.92\n",
      "Name: Abandonado, dtype: float64\n"
     ]
    }
   ],
   "source": [
    "## Porcentaje de abandono por hora\n",
    "print(\"\\n📊 Porcentaje de abandono por hora:\")\n",
    "print(round(abandono_por_hora.sort_values(ascending=False),2))"
   ]
  },
  {
   "cell_type": "markdown",
   "id": "278d7169",
   "metadata": {},
   "source": [
    "| Hora     | % Abandono |\n",
    "| -------- | ---------- |\n",
    "| **7 PM** | **25%**    |\n",
    "| 12–2 PM  | 15–18%     |\n",
    "| 9–11 AM  | 9–13%      |\n",
    "| **8 AM** | **3.9%**   |\n",
    "\n",
    "El abandono es más alto hacia el final de la jornada y al mediodía. Las primeras horas (8–9 AM) son las más eficientes en retención de los usuarios, esto podría estar relacionado también con los horarios de atención de la sucursal presentada, por lo que hay que considerar la espera de los usuarios antes del cierre temporal de almuerzo o el cierre final del día y así percibir un mejor servicio."
   ]
  },
  {
   "cell_type": "markdown",
   "id": "2c285683",
   "metadata": {},
   "source": [
    "**Recomendaciones:**\n",
    "\n",
    "* **Redistribuir personal en Caja** para reducir esperas, especialmente en horas pico.\n",
    "* **Priorizar atención** en franja de 11:00 AM a 2:00 PM donde se concentra el abandono.\n",
    "* **Detectar clientes en riesgo de abandono** con alertas tempranas por tiempo de espera.\n",
    "* **Evaluar agendamiento o segmentación diferenciada** para Corporativos y Pymes.\n",
    "\n",
    "Implementar alertas o intervenciones cuando un cliente supera 30 minutos de espera podría reducir significativamente la tasa de abandono. También puede ser útil priorizar clientes según el tiempo acumulado de espera si la carga operativa es alta.\n"
   ]
  },
  {
   "cell_type": "markdown",
   "id": "c808e6e1",
   "metadata": {},
   "source": [
    "### **Pregunta 3**\n",
    "Evalúa la eficiencia operativa. ¿Qué puedes decir sobre la productividad de los asesores? ¿Hay diferencias notables entre ellos? ¿Qué hipótesis podrías plantear sobre estas diferencias? Considera también si hay momentos del día con mayor o menor \n",
    "eficiencia."
   ]
  },
  {
   "cell_type": "code",
   "execution_count": 92,
   "id": "d84552db",
   "metadata": {},
   "outputs": [],
   "source": [
    "atendidos = dataframe[dataframe['estado_caso'] == 'Completado'].copy()\n",
    "\n",
    "asesor_productividad = atendidos.groupby('asesor_encriptado').agg(\n",
    "    total_servicios=('asesor_encriptado', 'count'),\n",
    "    mediana_servicio=('tiempo_servicio', 'median'),\n",
    "    desviacion_servicio=('tiempo_servicio', 'std'))\n",
    "\n",
    "asesor_productividad = asesor_productividad.reset_index()\n",
    "asesor_productividad['asesor_id_corto'] = asesor_productividad['asesor_encriptado'].str[:6]"
   ]
  },
  {
   "cell_type": "code",
   "execution_count": 93,
   "id": "7373bca9",
   "metadata": {},
   "outputs": [
    {
     "name": "stdout",
     "output_type": "stream",
     "text": [
      "\n",
      "📊 Productividad por Asesor (ID Corto):\n",
      "                 total_servicios  mediana_servicio  desviacion_servicio\n",
      "asesor_id_corto                                                        \n",
      "Sin Re                        92         10.416667            13.197930\n",
      "d2efa0                        90         16.591667            11.227147\n",
      "c29ee5                        77          6.100000             7.106800\n",
      "fe8160                        71          2.916667             2.011124\n",
      "0c50f5                        63         12.450000             9.683721\n",
      "038bdd                        59         14.200000            12.561523\n",
      "111ec9                        57         23.116667            13.950725\n",
      "ce33e9                        46          4.258333             5.173563\n",
      "7b78a6                        45         34.700000            19.469473\n",
      "69390e                        43          5.533333             3.928815\n",
      "98f978                        42         14.258333            12.540759\n",
      "fa8f07                        41         20.766667            17.317545\n",
      "25724b                        38          5.116667             4.249083\n",
      "16deb3                        37         40.566667            18.302418\n",
      "9ea4c3                        36         16.316667             7.240633\n",
      "727d6e                        36         23.983333            10.462466\n",
      "675a14                        35          9.500000            12.703432\n",
      "f99ffc                        34          7.100000             6.613488\n",
      "8e70ed                        34         15.033333            20.178312\n",
      "597694                        33         12.300000            10.114416\n"
     ]
    }
   ],
   "source": [
    "asesor_productividad = asesor_productividad.drop(columns=['asesor_encriptado'])\n",
    "\n",
    "asesor_productividad = asesor_productividad.set_index('asesor_id_corto')\n",
    "\n",
    "print(\"\\n📊 Productividad por Asesor (ID Corto):\")\n",
    "print(asesor_productividad.sort_values(by='total_servicios', ascending=False).head(20))"
   ]
  },
  {
   "cell_type": "markdown",
   "id": "9c2849ec",
   "metadata": {},
   "source": [
    "**Productividad por asesor**\n",
    "\n",
    "Los resultados muestran diferencias entre asesores en cuanto a:\n",
    "\n",
    "* **Cantidad de servicios atendidos**\n",
    "* **Mediana de tiempo por atención**\n",
    "* **Variabilidad (desviación estándar)** en sus tiempos\n",
    "\n",
    "✅ Observaciones clave:\n",
    "\n",
    "* Algunos asesores completan **varias centenas de servicios**, mientras otros atienden muchos menos.\n",
    "* Hay **variaciones notables en el tiempo mediano de atención**: algunos asesores son consistentemente más rápidos que otros.\n",
    "* La desviación estándar alta en algunos casos sugiere **variabilidad en el tipo de trámites** o **diferente nivel de experiencia**.\n",
    "\n",
    "**Hipótesis posibles:**\n",
    "\n",
    "* Los asesores con menor carga podrían estar dedicados a trámites complejos o a segmentos prioritarios.\n",
    "* Las diferencias podrían relacionarse con el horario en el que atienden, la experiencia o la calidad del servicio ofrecido.\n"
   ]
  },
  {
   "cell_type": "code",
   "execution_count": null,
   "id": "6fdf88ea",
   "metadata": {},
   "outputs": [
    {
     "data": {
      "text/html": [
       "<div>\n",
       "<style scoped>\n",
       "    .dataframe tbody tr th:only-of-type {\n",
       "        vertical-align: middle;\n",
       "    }\n",
       "\n",
       "    .dataframe tbody tr th {\n",
       "        vertical-align: top;\n",
       "    }\n",
       "\n",
       "    .dataframe thead th {\n",
       "        text-align: right;\n",
       "    }\n",
       "</style>\n",
       "<table border=\"1\" class=\"dataframe\">\n",
       "  <thead>\n",
       "    <tr style=\"text-align: right;\">\n",
       "      <th></th>\n",
       "      <th>atenciones</th>\n",
       "      <th>mediana_tiempo_servicio</th>\n",
       "    </tr>\n",
       "    <tr>\n",
       "      <th>hora_num</th>\n",
       "      <th></th>\n",
       "      <th></th>\n",
       "    </tr>\n",
       "  </thead>\n",
       "  <tbody>\n",
       "    <tr>\n",
       "      <th>8</th>\n",
       "      <td>2451</td>\n",
       "      <td>9.816667</td>\n",
       "    </tr>\n",
       "    <tr>\n",
       "      <th>9</th>\n",
       "      <td>12488</td>\n",
       "      <td>8.900000</td>\n",
       "    </tr>\n",
       "    <tr>\n",
       "      <th>10</th>\n",
       "      <td>11213</td>\n",
       "      <td>8.650000</td>\n",
       "    </tr>\n",
       "    <tr>\n",
       "      <th>11</th>\n",
       "      <td>11799</td>\n",
       "      <td>8.516667</td>\n",
       "    </tr>\n",
       "    <tr>\n",
       "      <th>12</th>\n",
       "      <td>8440</td>\n",
       "      <td>8.483333</td>\n",
       "    </tr>\n",
       "    <tr>\n",
       "      <th>13</th>\n",
       "      <td>7523</td>\n",
       "      <td>8.283333</td>\n",
       "    </tr>\n",
       "    <tr>\n",
       "      <th>14</th>\n",
       "      <td>8669</td>\n",
       "      <td>8.800000</td>\n",
       "    </tr>\n",
       "    <tr>\n",
       "      <th>15</th>\n",
       "      <td>9770</td>\n",
       "      <td>8.500000</td>\n",
       "    </tr>\n",
       "    <tr>\n",
       "      <th>16</th>\n",
       "      <td>9186</td>\n",
       "      <td>8.016667</td>\n",
       "    </tr>\n",
       "    <tr>\n",
       "      <th>17</th>\n",
       "      <td>4035</td>\n",
       "      <td>7.550000</td>\n",
       "    </tr>\n",
       "    <tr>\n",
       "      <th>18</th>\n",
       "      <td>222</td>\n",
       "      <td>8.125000</td>\n",
       "    </tr>\n",
       "    <tr>\n",
       "      <th>19</th>\n",
       "      <td>3</td>\n",
       "      <td>9.200000</td>\n",
       "    </tr>\n",
       "  </tbody>\n",
       "</table>\n",
       "</div>"
      ],
      "text/plain": [
       "          atenciones  mediana_tiempo_servicio\n",
       "hora_num                                     \n",
       "8               2451                 9.816667\n",
       "9              12488                 8.900000\n",
       "10             11213                 8.650000\n",
       "11             11799                 8.516667\n",
       "12              8440                 8.483333\n",
       "13              7523                 8.283333\n",
       "14              8669                 8.800000\n",
       "15              9770                 8.500000\n",
       "16              9186                 8.016667\n",
       "17              4035                 7.550000\n",
       "18               222                 8.125000\n",
       "19                 3                 9.200000"
      ]
     },
     "execution_count": 88,
     "metadata": {},
     "output_type": "execute_result"
    }
   ],
   "source": [
    "# Agrupar por hora para eficiencia horaria\n",
    "eficiencia_horaria = atendidos.groupby('hora_num').agg(\n",
    "    atenciones=('hora_num', 'count'),\n",
    "    mediana_tiempo_servicio=('tiempo_servicio', 'median')\n",
    ").sort_index()\n",
    "\n",
    "\n",
    "import pandas as pd\n",
    "pd.set_option('display.max_rows', 100) \n",
    "eficiencia_horaria.head(20)"
   ]
  },
  {
   "cell_type": "markdown",
   "id": "5501e2da",
   "metadata": {},
   "source": [
    "| Hora    | Atenciones | Tiempo Prom. Servicio (min) |\n",
    "| ------- | ---------- | --------------------------- |\n",
    "| 9–11 AM | Muy alto   | \\~8.6 min                  |\n",
    "| 12–2 PM | Alto       | \\~8.4 min                  |\n",
    "| 4–7 PM  | Bajo       | ↓ hasta **9 min**          |\n",
    "\n",
    "Conclusiones por franja:\n",
    "\n",
    "* **Mayor productividad** se concentra entre **9:00 AM y 3:00 PM**, tanto en volumen como en estabilidad de atención.\n",
    "* En la tarde, aunque el volumen baja, **los tiempos de servicio también disminuyen**, lo que puede indicar:\n",
    "\n",
    "  * Asuntos más simples.\n",
    "  * Menor congestión.\n",
    "  * Mayor disponibilidad por parte de los asesores.\n",
    "\n",
    "Así, redistribuir la carga o reforzar personal en las **horas pico** (9–12 AM), y aprovechar la mayor eficiencia de la tarde para atender trámites más largos si es necesario, sería una forma de mejorar la experiencia del usuario.\n",
    "\n"
   ]
  },
  {
   "cell_type": "markdown",
   "id": "655150e3",
   "metadata": {},
   "source": [
    "### **Pregunta 4**\n",
    "Analiza la capacidad de atención de la sucursal. Estudia cómo varía la demanda a lo largo del día. ¿Cuántos clientes se atienden por hora? ¿Cuáles son las horas pico? ¿Cómo se relaciona esto con los tiempos de espera y los abandonos?"
   ]
  },
  {
   "cell_type": "code",
   "execution_count": 120,
   "id": "4eccc9ea",
   "metadata": {},
   "outputs": [],
   "source": [
    "casos_por_hora = dataframe.groupby('hora_num').size()\n",
    "\n",
    "completados_por_hora = dataframe[dataframe['estado_caso'] == 'Completado'].groupby('hora_num').size()\n",
    "abandonos_por_hora = dataframe[dataframe['estado_caso'] == 'Abandonado'].groupby('hora_num').size()\n",
    "\n",
    "espera_por_hora = dataframe.groupby('hora_num')['tiempo_espera'].median()\n",
    "servicio_por_hora = dataframe.groupby('hora_num')['tiempo_servicio'].median()"
   ]
  },
  {
   "cell_type": "code",
   "execution_count": 126,
   "id": "85d0a6e0",
   "metadata": {},
   "outputs": [],
   "source": [
    "# Consolidar en un solo DataFrame para graficar\n",
    "resumen_hora = pd.DataFrame({\n",
    "    'total': casos_por_hora,\n",
    "    'completados': completados_por_hora,\n",
    "    'abandonados': abandonos_por_hora,\n",
    "    'tiempo_espera': espera_por_hora,\n",
    "    'tiempo_servicio': servicio_por_hora\n",
    "})"
   ]
  },
  {
   "cell_type": "code",
   "execution_count": 127,
   "id": "0d3daaa7",
   "metadata": {},
   "outputs": [
    {
     "name": "stdout",
     "output_type": "stream",
     "text": [
      "\n",
      "📊 Resumen por Hora:\n",
      "          total  completados  abandonados  tiempo_espera  tiempo_servicio\n",
      "hora_num                                                                 \n",
      "8          2551         2451          100       7.966667         9.533333\n",
      "9         13867        12488         1379      20.316667         8.433333\n",
      "10        12956        11213         1743      29.925000         7.966667\n",
      "11        13698        11799         1899      29.750000         7.683333\n",
      "12        10251         8440         1809      29.466667         7.216667\n",
      "13         9133         7523         1610      28.316667         7.250000\n",
      "14        10264         8669         1595      27.958333         7.875000\n",
      "15        11471         9770         1701      25.000000         7.683333\n",
      "16        10760         9186         1574      31.950000         7.233333\n",
      "17         4795         4035          760      28.800000         7.083333\n",
      "18          250          222           28       3.983333         7.891667\n",
      "19            4            3            1       0.191667         8.825000\n"
     ]
    }
   ],
   "source": [
    "## visualización de resultados\n",
    "print(\"\\n📊 Resumen por Hora:\")\n",
    "print(resumen_hora)"
   ]
  },
  {
   "cell_type": "code",
   "execution_count": 122,
   "id": "bf4d50d2",
   "metadata": {},
   "outputs": [
    {
     "data": {
      "image/png": "[encoded data removed]",
      "text/plain": [
       "<Figure size 1200x600 with 1 Axes>"
      ]
     },
     "metadata": {},
     "output_type": "display_data"
    }
   ],
   "source": [
    "# Gráfico de eficiencia por hora\n",
    "plt.figure(figsize=(12, 6))\n",
    "sns.lineplot(data=resumen_hora[['total_casos', 'completados', 'abandonados']])\n",
    "plt.title('Atenciones por Hora en la Sucursal')\n",
    "plt.xlabel('Hora del Día')\n",
    "plt.ylabel('Número de Casos')\n",
    "plt.xticks(range(7, 19))\n",
    "plt.grid(True)\n",
    "plt.tight_layout()\n",
    "plt.show()\n",
    "\n",
    "# Guardar el gráfico\n",
    "plt.savefig(\"../files/atenciones_por_hora.png\", dpi=300)\n",
    "plt.close()"
   ]
  },
  {
   "cell_type": "markdown",
   "id": "6bd35a28",
   "metadata": {},
   "source": [
    "Como se había comentado anteriormente, la mayoría de los casos se concentran entre las 9:00 a.m. y las 12:00 m., así como entre las 2:00 p.m. y las 4:00 p.m.\n",
    "* **Horas pico**: generalmente entre las 9:00 a.m. y las 11:00 a.m., donde se observa el mayor volumen de clientes.\n",
    "* **Relación con tiempos de espera y abandonos**: en esas horas pico también se incrementan los tiempos de espera y los abandonos, lo que indica una posible saturación operativa.\n",
    "\n",
    "Recordar que con respecto a los tiempos, se calcula la mediana como estimador confiable."
   ]
  },
  {
   "cell_type": "markdown",
   "id": "36597119",
   "metadata": {},
   "source": [
    "### **Pregunta 5**\n",
    "Modelado del sistema de atención: suponiendo que el valor de C es 5, equivalente la cantidad de asesores."
   ]
  },
  {
   "cell_type": "code",
   "execution_count": 128,
   "id": "b779b176",
   "metadata": {},
   "outputs": [],
   "source": [
    "completados = dataframe[dataframe['estado_caso'] == 'Completado'].copy()\n",
    "completados['fecha_completa'] = pd.to_datetime(completados['fecha_completa'])\n",
    "\n",
    "# Orden por tiempo\n",
    "completados = completados.sort_values('fecha_completa')"
   ]
  },
  {
   "cell_type": "code",
   "execution_count": 129,
   "id": "4ee31072",
   "metadata": {},
   "outputs": [],
   "source": [
    "# Calcular deltas entre llegadas consecutivas (en minutos)\n",
    "deltas_min = completados['fecha_completa'].diff().dropna().dt.total_seconds() / 60\n",
    "lambda_rate = 1 / deltas_min.mean()  # tasa de llegada lambda (clientes/minuto)\n",
    "\n",
    "# Calcular tasa de servicio por asesor (en minutos)\n",
    "mu_rate = 1 / completados['tiempo_servicio'].mean()  # tasa de servicio mu (clientes/minuto)\n",
    "# Número de asesores\n",
    "c = 5\n",
    "# Utilización del sistema\n",
    "rho = lambda_rate / (c * mu_rate)"
   ]
  },
  {
   "cell_type": "code",
   "execution_count": null,
   "id": "a52794fb",
   "metadata": {},
   "outputs": [],
   "source": [
    "# para calcular probabilidad de 0 clientes en el sistema (P0)\n",
    "from math import factorial\n",
    "\n",
    "def calc_P0(c, rho, lambda_rate, mu_rate):\n",
    "    sum_terms = sum([(lambda_rate / mu_rate)**n / factorial(n) for n in range(c)])\n",
    "    last_term = ((lambda_rate / mu_rate)**c / (factorial(c) * (1 - rho))) if rho < 1 else float('inf')\n",
    "    return 1 / (sum_terms + last_term)\n",
    "\n",
    "P0 = calc_P0(c, rho, lambda_rate, mu_rate)\n",
    "\n",
    "# Lq: Número promedio de clientes en cola (esperando)\n",
    "Lq = (P0 * ((lambda_rate / mu_rate)**c) * rho) / (factorial(c) * ((1 - rho)**2)) if rho < 1 else float('inf')\n",
    "\n",
    "# Wq: Tiempo promedio en cola\n",
    "Wq = Lq / lambda_rate\n",
    "\n",
    "# W: Tiempo total en el sistema\n",
    "W = Wq + 1 / mu_rate\n",
    "\n",
    "# L: Número promedio en el sistema\n",
    "L = lambda_rate * W\n",
    "\n",
    "# Métricas reales\n",
    "tiempo_espera_real = dataframe[dataframe['estado_caso'] == 'Completado']['tiempo_espera'].mean()\n",
    "tiempo_total_real = tiempo_espera_real + dataframe[dataframe['estado_caso'] == 'Completado']['tiempo_servicio'].mean()\n",
    "\n",
    "# Consolidar resultados\n",
    "mmc_resultado = pd.DataFrame([{\n",
    "    \"λ (tasa de llegada)\": lambda_rate,\n",
    "    \"μ (tasa de servicio)\": mu_rate,\n",
    "    \"c (número de asesores)\": c,\n",
    "    \"ρ (utilización)\": rho,\n",
    "    \"P0 (prob. sistema vacío)\": P0,\n",
    "    \"Lq (clientes en cola)\": Lq,\n",
    "    \"Wq (tiempo espera en cola)\": Wq,\n",
    "    \"W (tiempo total en sistema)\": W,\n",
    "    \"W_real (tiempo total real)\": tiempo_total_real,\n",
    "    \"Wq_real (espera real)\": tiempo_espera_real\n",
    "}])"
   ]
  },
  {
   "cell_type": "code",
   "execution_count": 131,
   "id": "256afb85",
   "metadata": {},
   "outputs": [
    {
     "name": "stdout",
     "output_type": "stream",
     "text": [
      "📊 Modelo M/M/c con 5 Asesores:\n",
      "   λ (tasa de llegada)  μ (tasa de servicio)  c (número de asesores)  \\\n",
      "0             0.280476              0.075995                       5   \n",
      "\n",
      "   ρ (utilización)  P0 (prob. sistema vacío)  Lq (clientes en cola)  \\\n",
      "0         0.738145                  0.020241               1.243459   \n",
      "\n",
      "   Wq (tiempo espera en cola)  W (tiempo total en sistema)  \\\n",
      "0                    4.433382                    17.592152   \n",
      "\n",
      "   W_real (tiempo total real)  Wq_real (espera real)  \n",
      "0                   43.801444              30.642674  \n"
     ]
    }
   ],
   "source": [
    "print(\"📊 Modelo M/M/c con 5 Asesores:\")\n",
    "print(mmc_resultado)"
   ]
  },
  {
   "cell_type": "markdown",
   "id": "9f3b6b8f",
   "metadata": {},
   "source": [
    "✅ Modelo de Colas M/M/5 \n",
    "\n",
    "**Supuestos**:\n",
    "\n",
    "* Llegadas aleatorias de clientes (Dist. Poisson)\n",
    "* Tiempos de servicio aleatorios (Dist. Exponencial)\n",
    "* 5 asesores disponibles **trabajando en paralelo**\n",
    "* Capacidad infinita de cola, y los clientes no se van del sistema\n",
    "\n",
    "Parámetros estimados:\n",
    "* **λ (lambda)** = 0.28 clientes/minuto => En promedio, un cliente llega cada 3.56 minutos\n",
    "* **μ (mu)** = 0.076 clientes/minuto => Cada asesor atiende un cliente en promedio en 13.16 minutos\n",
    "* **ρ (rho)** = 0.738 => El sistema usa un 73.8% de su capacidad. Aún **estable** (ρ < 1)\n",
    "\n",
    "\n",
    "Resultados del modelo:\n",
    "\n",
    "| Métrica      | Significado                                    | Valor (minutos) |\n",
    "| ------------ | ---------------------------------------------- | --------------- |\n",
    "| **Wq**       | Tiempo promedio en cola                        | **4.43 min**    |\n",
    "| **W**        | Tiempo total en el sistema (espera + servicio) | **17.59 min**   |\n",
    "| **Wq\\_real** | Espera real observada en datos                 | **30.64 min**   |\n",
    "| **W\\_real**  | Tiempo real total en el sistema                | **43.80 min**   |\n",
    "\n",
    "Siendo así, completado el modelo, **se predice mucho menos tiempo de espera** que el observado. Esto indica que aunque haya 5 asesores, en la práctica hay factores que **reducen la eficiencia**: interrupciones, asignación desigual, prioridad por segmento, entre otros."
   ]
  },
  {
   "cell_type": "markdown",
   "id": "38f28a96",
   "metadata": {},
   "source": [
    "**Estrategias sin aumentar el número de asesores:**\n",
    "\n",
    "* Priorización de segmentos (ej. \"Personal Plus\" pasa primero).\n",
    "* Redireccionamiento de servicios de baja prioridad a horas no pico.\n",
    "* Optimización de turnos en función de la hora, identificando la cantidad de ususarios atendidos, se debería tener una mayor efectividad por parte de cada asesor, dependiendo del tipo de servicio, para agilizar la atención en ese momento."
   ]
  },
  {
   "cell_type": "markdown",
   "id": "01684613",
   "metadata": {},
   "source": [
    "### **Pregunta 6**\n",
    "Optimización de recursos sin aumentar capacidad. Si tuvieras que redistribuir los asesores a lo largo del día sin aumentar su número total, ¿cómo lo harías para mejorar la atención? Propón una estrategia basada en los datos y justifica tus decisiones."
   ]
  },
  {
   "cell_type": "markdown",
   "id": "c3500442",
   "metadata": {},
   "source": [
    "Estrategia: Redistribución Inteligente por Franja Horaria\n",
    "\n",
    "Se basa en reducir los tiempos de espera promedio (actualmente >30 min), **sin aumentar el total de asesores disponibles**.\n",
    "\n",
    "1. Análisis inicial\n",
    "**De los datos previos:**\n",
    "\n",
    "* **Horas pico de demanda:** 9:00–11:00 y 14:00–16:00\n",
    "* **Tiempo real de espera:** \\~30 min (mucho mayor al estimado por el modelo)\n",
    "* **Tasa de llegada (λ):** En promedio, un cliente llega cada 3.56 minutos\n",
    "* **Tasa de servicio por asesor (μ):** Cada asesor atiende un cliente, en promedio, en 13.16 minutos\n",
    "* **Sistema subutilizado en horas valle**, pero saturado en horas pico\n",
    "\n",
    "2. Redistribución propuesta de los 5 asesores\n",
    "\n",
    "| Franja horaria | Demanda estimada | Propuesta asesores |\n",
    "| -------------- | ---------------- | ------------------ |\n",
    "| 08:00–09:00    | Baja             | 2                  |\n",
    "| 09:00–11:00    | Alta (pico)      | 5 o varía dependiendo de la capacidad                  |\n",
    "| 11:00–12:00    | Media            | 4                  |\n",
    "| 12:00–14:00    | Baja (almuerzo)  | 2                  |\n",
    "| 14:00–16:00    | Alta (pico)      | 5                  |\n",
    "| 16:00–17:00    | Media            | 3                  |\n",
    "\n",
    "Siendo así, \n",
    "\n",
    "* Se **concentra el recurso humano en las horas de mayor congestión** (basado en el gráfico de casos por hora y tiempos de espera).\n",
    "* En horas de baja demanda (como almuerzo y apertura), se deja un equipo mínimo operativo mientras la otra capacidad de la sucursal se concentra en operaciones que puedan interferir en la atención al cliente durante las horas con mayor demanda.\n",
    "* Se aprovecha que los modelos indican que con 5 asesores **el sistema es estable**, pero en la práctica el cuello de botella está en **la asignación desigual de personal durante el día**.\n",
    "\n",
    "3. Posibles mejoras esperadas\n",
    "\n",
    "* Disminución de **Wq (tiempo en cola)**, sobre todo en horas pico (mayor capacidad de asesores).\n",
    "* Mayor balance entre la **capacidad real de atención** y la demanda horaria.\n",
    "* Disminución del **número de abandonos**, especialmente en los segmentos más sensibles como lo es \"Personal Plus\", analizado en todo el proceso.\n",
    "\n",
    "Aunque el sistema cuenta con suficientes asesores para mantener un ρ < 1, el alto tiempo de espera observado puede ser debido a una **mala distribución temporal del recurso humano**. Esta propuesta de redistribución busca **alinear oferta y demanda por franja horaria**, **sin aumentar costos operativos** ni modificar infraestructura."
   ]
  },
  {
   "cell_type": "markdown",
   "id": "e3e757c5",
   "metadata": {},
   "source": [
    "### **Pregunta 7**\n",
    " Recomendaciones finales. A partir de tus hallazgos, ¿qué tres recomendaciones clave harías para mejorar la experiencia del cliente en la sucursal?"
   ]
  },
  {
   "cell_type": "markdown",
   "id": "d01e38f1",
   "metadata": {},
   "source": [
    "1.**Rediseñar turnos de asesores para adaptarse a la demanda real**\n",
    "\n",
    "Aunque se cuenta con una capacidad adecuada (5 asesores en este ejemplo dado), los datos muestran que el tiempo real de espera es significativamente mayor que el estimado por el modelo. Esto muestra ineficiencias operativas. Se recomienda:\n",
    "\n",
    "* **Ajustar la asignación horaria de los asesores** para reforzar presencia en las horas pico (9–11 a.m. y 2–4 p.m.).\n",
    "* Aplicar turnos flexibles o ventanas móviles de atención, que respondan a la curva real de demanda mostrada en las gráficas.\n",
    "\n",
    "*Beneficio:* reducción efectiva del tiempo de espera sin aumentar costos.\n",
    "\n",
    "2.**Implementar un sistema de gestión de turnos inteligente con priorización por segmento**\n",
    "\n",
    "El tiempo de espera promedio para todos los clientes es alto, pero afecta más a los segmentos que demandan servicios rápidos como \"Personal Plus\". Se recomienda:\n",
    "\n",
    "* Introducir una **priorización dinámica de turnos**, donde ciertos segmentos (ej. clientes frecuentes, mayores de edad o con necesidades específicas) sean priorizados sin afectar la calidad del servicio.\n",
    "* Esto puede lograrse vía app, totem o incluso señalización en la misma sucursal.\n",
    "\n",
    "*Beneficio:* mejora la percepción del servicio sin perjudicar el flujo general.\n",
    "\n",
    "\n",
    "3.**Fomentar el uso de canales digitales o autoservicio para servicios repetitivos**\n",
    "\n",
    "La alta carga operativa podría estar asociada a servicios que **podrían resolverse sin intervención directa**. Por lo que se puede pensar en:\n",
    "\n",
    "* Identificar los subservicios más comunes (como retiros, certificados, consulta de saldos, explicación de funcionalidades nuevas de la entidad como BRE-B, etc).\n",
    "* **Ofrecer redirección activa a canales digitales o kioskos de autoservicio**, especialmente en horas pico.\n",
    "\n",
    "*Beneficio:* descongestiona la atención presencial, mejora la autonomía del cliente y reduce la tasa de abandonos."
   ]
  },
  {
   "cell_type": "markdown",
   "id": "ca2f55a9",
   "metadata": {},
   "source": [
    "**Trabajo realizado por:**\n",
    "Julián Saavedra Echavarría, Profesional en espera de grados del pregrado de Estadística en la Universidad Nacional de Colombia - Sede Medellín, postulado a la vacante Analista Nivel 2 en el Área de Conocimiento de Analítica Distribución - Medellín (52813).\n",
    "\n",
    "Este informe integra el análisis de datos imputados, modelamiento de colas y evaluación operativa para proponer mejoras en la experiencia del cliente (UX) en sucursales físicas, demostrando competencias en PySpark, SQL, Pandas, análisis estadístico y toma de decisiones basada en datos reales."
   ]
  }
 ],
 "metadata": {
  "kernelspec": {
   "display_name": ".venv",
   "language": "python",
   "name": "python3"
  },
  "language_info": {
   "codemirror_mode": {
    "name": "ipython",
    "version": 3
   },
   "file_extension": ".py",
   "mimetype": "text/x-python",
   "name": "python",
   "nbconvert_exporter": "python",
   "pygments_lexer": "ipython3",
   "version": "3.10.5"
  }
 },
 "nbformat": 4,
 "nbformat_minor": 5
}
