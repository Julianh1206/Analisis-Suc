{
 "cells": [
  {
   "cell_type": "markdown",
   "id": "a456116c",
   "metadata": {},
   "source": [
    "## **Manejo de PySpqrk y SQL para entender el comportamiento de la tabla inicial**\n",
    "\n",
    "Se utilizó PySpark y consultas SQL para explorar y analizar los datos relacionados con la atención en la sucursal. A través de estas herramientas, se identificaron patrones clave como la distribución horaria de la demanda, los tiempos de espera promedio, y los estados de los casos (completado o abandonado). Esto permitió construir una vista consolidada del sistema de atención, facilitando la posterior modelación y toma de decisiones para la impuración del nuevo archivo .csv generado en \"001_impuracion-pandas.ipynb\" y guardado en los archivos de entrada del proyectos como \"datos_sucursal_imputado.csv\"."
   ]
  },
  {
   "cell_type": "markdown",
   "id": "b7ac0570",
   "metadata": {},
   "source": [
    "### **Exploración de datos en crudo con SQL**"
   ]
  },
  {
   "cell_type": "code",
   "execution_count": 2,
   "id": "12cd38ba",
   "metadata": {},
   "outputs": [],
   "source": [
    "from pyspark.sql import SparkSession\n",
    "from pyspark.sql.functions import col, when, count, avg, hour, dayofweek, to_timestamp\n",
    "from pyspark.sql.types import IntegerType, FloatType, StringType, TimestampType"
   ]
  },
  {
   "cell_type": "code",
   "execution_count": 3,
   "metadata": {},
   "outputs": [],
   "source": [
    "from pyspark.sql.window import Window\n",
    "from pyspark.ml.feature import StringIndexer, VectorAssembler\n",
    "from pyspark.ml.regression import LinearRegression"
   ]
  },
  {
   "cell_type": "code",
   "execution_count": 4,
   "id": "355f14a2",
   "metadata": {},
   "outputs": [],
   "source": [
    "spark = SparkSession.builder \\\n",
    "    .appName(\"SucursalTurnosSQL\") \\\n",
    "    .getOrCreate()"
   ]
  },
  {
   "cell_type": "code",
   "execution_count": 5,
   "id": "17d6efac",
   "metadata": {},
   "outputs": [],
   "source": [
    "# Leer \n",
    "df = spark.read.option(\"header\", True).option(\"inferSchema\", True).csv('../files/input/Datos_Sucursal.csv')"
   ]
  },
  {
   "cell_type": "code",
   "execution_count": 6,
   "id": "8f26c7cb",
   "metadata": {},
   "outputs": [],
   "source": [
    "df = df.withColumnRenamed(\"mes\", \"month\").withColumnRenamed(\"dia\", \"day\")"
   ]
  },
  {
   "cell_type": "code",
   "execution_count": 7,
   "id": "9473e396",
   "metadata": {},
   "outputs": [],
   "source": [
    "from pyspark.sql.functions import to_timestamp, hour\n",
    "\n",
    "df = df.withColumn(\"hora_clean\", to_timestamp(\"hora\", \"HH:mm:ss.SSS\"))\n",
    "df = df.withColumn(\"hora_num\", hour(\"hora_clean\"))"
   ]
  },
  {
   "cell_type": "code",
   "execution_count": 8,
   "id": "16234f8a",
   "metadata": {},
   "outputs": [],
   "source": [
    "df.createOrReplaceTempView(\"sucursal_turnos\")"
   ]
  },
  {
   "cell_type": "code",
   "execution_count": 9,
   "id": "36d2748f",
   "metadata": {},
   "outputs": [
    {
     "name": "stdout",
     "output_type": "stream",
     "text": [
      "root\n",
      " |-- year: integer (nullable = true)\n",
      " |-- month: integer (nullable = true)\n",
      " |-- day: integer (nullable = true)\n",
      " |-- hora: timestamp (nullable = true)\n",
      " |-- usuario_encriptado: string (nullable = true)\n",
      " |-- tipo_servicio: string (nullable = true)\n",
      " |-- servicio: string (nullable = true)\n",
      " |-- sub_servicio: string (nullable = true)\n",
      " |-- tiempo_espera: string (nullable = true)\n",
      " |-- tiempo_servicio: string (nullable = true)\n",
      " |-- segm: string (nullable = true)\n",
      " |-- estado_caso: string (nullable = true)\n",
      " |-- asesor_encriptado: string (nullable = true)\n",
      " |-- hora_clean: timestamp (nullable = true)\n",
      " |-- hora_num: integer (nullable = true)\n",
      "\n",
      "Nombres de columnas:\n",
      "['year', 'month', 'day', 'hora', 'usuario_encriptado', 'tipo_servicio', 'servicio', 'sub_servicio', 'tiempo_espera', 'tiempo_servicio', 'segm', 'estado_caso', 'asesor_encriptado', 'hora_clean', 'hora_num']\n"
     ]
    }
   ],
   "source": [
    "# Ver el esquema del DataFrame para conocer los nombres de las columnas\n",
    "df.printSchema()\n",
    "print(\"Nombres de columnas:\")\n",
    "print(df.columns)"
   ]
  },
  {
   "cell_type": "markdown",
   "id": "3bed8bbf",
   "metadata": {},
   "source": [
    "No es correcto que: \n",
    "\n",
    "|-- tiempo_espera: string (nullable = true)\n",
    "\n",
    "|-- tiempo_servicio: string (nullable = true)\n",
    "\n",
    "Por lo que se debe realizar el cambio a tipo double por la forma (minutos), del campo."
   ]
  },
  {
   "cell_type": "code",
   "execution_count": 10,
   "id": "8f221030",
   "metadata": {},
   "outputs": [],
   "source": [
    "df = df.withColumn(\"tiempo_espera\", when(col(\"tiempo_espera\").isin(\"NULL\", \"\"), None).otherwise(col(\"tiempo_espera\")))\n",
    "df = df.withColumn(\"tiempo_servicio\", when(col(\"tiempo_servicio\").isin(\"NULL\", \"\"), None).otherwise(col(\"tiempo_servicio\")))\n",
    "\n",
    "# cast\n",
    "df = df.withColumn(\"tiempo_espera\", col(\"tiempo_espera\").cast(\"double\"))\n",
    "df = df.withColumn(\"tiempo_servicio\", col(\"tiempo_servicio\").cast(\"double\"))"
   ]
  },
  {
   "cell_type": "code",
   "execution_count": 11,
   "id": "0f9d6e24",
   "metadata": {},
   "outputs": [],
   "source": [
    "## Reemplazar la vista por los cambios realizados\n",
    "df.createOrReplaceTempView(\"sucursal_turnos\")"
   ]
  },
  {
   "cell_type": "code",
   "execution_count": 12,
   "id": "189d6358",
   "metadata": {},
   "outputs": [
    {
     "name": "stdout",
     "output_type": "stream",
     "text": [
      "root\n",
      " |-- year: integer (nullable = true)\n",
      " |-- month: integer (nullable = true)\n",
      " |-- day: integer (nullable = true)\n",
      " |-- hora: timestamp (nullable = true)\n",
      " |-- usuario_encriptado: string (nullable = true)\n",
      " |-- tipo_servicio: string (nullable = true)\n",
      " |-- servicio: string (nullable = true)\n",
      " |-- sub_servicio: string (nullable = true)\n",
      " |-- tiempo_espera: double (nullable = true)\n",
      " |-- tiempo_servicio: double (nullable = true)\n",
      " |-- segm: string (nullable = true)\n",
      " |-- estado_caso: string (nullable = true)\n",
      " |-- asesor_encriptado: string (nullable = true)\n",
      " |-- hora_clean: timestamp (nullable = true)\n",
      " |-- hora_num: integer (nullable = true)\n",
      "\n",
      "Nombres de columnas:\n",
      "['year', 'month', 'day', 'hora', 'usuario_encriptado', 'tipo_servicio', 'servicio', 'sub_servicio', 'tiempo_espera', 'tiempo_servicio', 'segm', 'estado_caso', 'asesor_encriptado', 'hora_clean', 'hora_num']\n"
     ]
    }
   ],
   "source": [
    "df.printSchema()\n",
    "print(\"Nombres de columnas:\")\n",
    "print(df.columns)"
   ]
  },
  {
   "cell_type": "code",
   "execution_count": 10,
   "id": "42f7eecf",
   "metadata": {},
   "outputs": [
    {
     "name": "stdout",
     "output_type": "stream",
     "text": [
      "+------------------+---------+-------+\n",
      "|          col_name|data_type|comment|\n",
      "+------------------+---------+-------+\n",
      "|              year|      int|   NULL|\n",
      "|             month|      int|   NULL|\n",
      "|               day|      int|   NULL|\n",
      "|              hora|timestamp|   NULL|\n",
      "|usuario_encriptado|   string|   NULL|\n",
      "|     tipo_servicio|   string|   NULL|\n",
      "|          servicio|   string|   NULL|\n",
      "|      sub_servicio|   string|   NULL|\n",
      "|     tiempo_espera|   double|   NULL|\n",
      "|   tiempo_servicio|   double|   NULL|\n",
      "|              segm|   string|   NULL|\n",
      "|       estado_caso|   string|   NULL|\n",
      "| asesor_encriptado|   string|   NULL|\n",
      "|        hora_clean|timestamp|   NULL|\n",
      "|          hora_num|      int|   NULL|\n",
      "+------------------+---------+-------+\n",
      "\n"
     ]
    }
   ],
   "source": [
    "spark.sql(\"\"\"DESCRIBE sucursal_turnos\"\"\").show()"
   ]
  },
  {
   "cell_type": "markdown",
   "id": "54690045",
   "metadata": {},
   "source": [
    "Identificando los diferentes tipos de servicio, segmentos y demás campos, con el fin de imputar de manera correcta la información en el notebook-prueba:"
   ]
  },
  {
   "cell_type": "code",
   "execution_count": 11,
   "id": "174fe24b",
   "metadata": {},
   "outputs": [
    {
     "name": "stdout",
     "output_type": "stream",
     "text": [
      "+--------------------+\n",
      "|            servicio|\n",
      "+--------------------+\n",
      "|        Caja Divisas|\n",
      "|         Caja Basica|\n",
      "|       Asesoria Pyme|\n",
      "|        Caja General|\n",
      "|   Caja Preferencial|\n",
      "|Asesoria Preferen...|\n",
      "|         Autogestión|\n",
      "|    Asesoria General|\n",
      "|     Asesoria Turnos|\n",
      "|        Caja Turnos |\n",
      "|                NULL|\n",
      "|    Caja Prioritaria|\n",
      "|         Caja Masiva|\n",
      "+--------------------+\n",
      "\n"
     ]
    }
   ],
   "source": [
    "spark.sql(\"\"\"\n",
    "SELECT DISTINCT servicio\n",
    "FROM sucursal_turnos;\n",
    "\"\"\").show() ## Sin Información"
   ]
  },
  {
   "cell_type": "code",
   "execution_count": 15,
   "id": "0483fe2e",
   "metadata": {},
   "outputs": [
    {
     "name": "stdout",
     "output_type": "stream",
     "text": [
      "+--------------------+\n",
      "|                segm|\n",
      "+--------------------+\n",
      "|         Corporativo|\n",
      "|            Personal|\n",
      "|     Segmento Social|\n",
      "|         Empresarial|\n",
      "|        Preferencial|\n",
      "|           Micropyme|\n",
      "|       Personal Plus|\n",
      "|    Constructor Pyme|\n",
      "|                Pyme|\n",
      "|                NULL|\n",
      "|Constructor Corpo...|\n",
      "|     Gobierno De Red|\n",
      "+--------------------+\n",
      "\n"
     ]
    }
   ],
   "source": [
    "spark.sql(\"\"\"\n",
    "SELECT DISTINCT segm\n",
    "FROM sucursal_turnos;\n",
    "\"\"\").show() ## Sin Segmento"
   ]
  },
  {
   "cell_type": "code",
   "execution_count": 16,
   "id": "212d9520",
   "metadata": {},
   "outputs": [
    {
     "name": "stdout",
     "output_type": "stream",
     "text": [
      "+----+-----+---+--------------------+--------------------+-------------+-----------------+--------------------+------------------+------------------+-------------+-----------+--------------------+\n",
      "|year|month|day|                hora|  usuario_encriptado|tipo_servicio|         servicio|        sub_servicio|     tiempo_espera|   tiempo_servicio|         segm|estado_caso|   asesor_encriptado|\n",
      "+----+-----+---+--------------------+--------------------+-------------+-----------------+--------------------+------------------+------------------+-------------+-----------+--------------------+\n",
      "|2024|    1|  2|2025-07-26 15:34:...|20aed4d067c167cbd...|     Asesoria| Asesoria General|    Asesoria General| 34.46666666666667|             12.35|     Personal| Completado|d59d2bb716c503bcb...|\n",
      "|2024|    1|  2|2025-07-26 10:41:...|2633c62c47bcb340c...|         Caja|Caja Preferencial|Caja Preferencial...| 95.08333333333333|              9.95|Personal Plus| Completado|09c9a38a05f3d4da9...|\n",
      "|2024|    1|  2|2025-07-26 10:32:...|7ddd4eba0e042e4f8...|         Caja|     Caja Turnos |         Caja Turnos| 79.03333333333335|15.783333333333333|Personal Plus| Completado|fcb5913f0c577ecc9...|\n",
      "|2024|    1|  2|2025-07-26 16:53:...|d17eacbf24cc24c5c...|         Caja|     Caja General|        Caja General|              64.2|              NULL|Personal Plus| Abandonado|6024bbfafbaf5e532...|\n",
      "|2024|    1|  2|2025-07-26 12:05:...|dcbda5f62dc9fd403...|         Caja|     Caja General|        Caja General| 158.6833333333333|              NULL|    Micropyme| Abandonado|b1a5fa46436fa2cd8...|\n",
      "|2024|    1|  2|2025-07-26 11:13:...|32e9a5f3007685134...|     Asesoria| Asesoria General|    Asesoria General|18.966666666666665|              29.3|Personal Plus| Completado|94c3e593da40d88fb...|\n",
      "|2024|    1|  2|2025-07-26 11:48:...|                NULL|     Asesoria| Asesoria General|    Asesoria General| 71.86666666666666|              NULL|         NULL| Abandonado|0ab716b5568ea21c8...|\n",
      "|2024|    1|  2|2025-07-26 11:37:...|6c1367153a9b7028e...|         Caja|     Caja General|        Caja General|141.83333333333334|              NULL|     Personal| Abandonado|7e177fbd1bc426c39...|\n",
      "|2024|    1|  2|2025-07-26 13:57:...|                NULL|     Asesoria| Asesoria General|    Asesoria General| 4.233333333333333|13.166666666666666|         NULL| Completado|d347d63c9410d8f5e...|\n",
      "|2024|    1|  2|2025-07-26 12:36:...|e43a176c4bf7c866a...|     Asesoria|  Asesoria Turnos|     Asesoria Turnos|38.833333333333336|              NULL|     Personal| Abandonado|8e3150ffcb983a3f2...|\n",
      "+----+-----+---+--------------------+--------------------+-------------+-----------------+--------------------+------------------+------------------+-------------+-----------+--------------------+\n",
      "\n"
     ]
    }
   ],
   "source": [
    "spark.sql(\"\"\"\n",
    "SELECT\n",
    "    year, \n",
    "    month, \n",
    "    day, \n",
    "    hora, \n",
    "    usuario_encriptado, \n",
    "    tipo_servicio, \n",
    "    servicio, \n",
    "    sub_servicio,\n",
    "    tiempo_espera, \n",
    "    tiempo_servicio, \n",
    "    segm, \n",
    "    estado_caso, \n",
    "    asesor_encriptado\n",
    "FROM sucursal_turnos\n",
    "LIMIT 10;\n",
    "\"\"\").show()"
   ]
  },
  {
   "cell_type": "code",
   "execution_count": null,
   "id": "6a878904",
   "metadata": {},
   "outputs": [
    {
     "name": "stdout",
     "output_type": "stream",
     "text": [
      "+----+-----+---+--------------------+--------------------+-------------+--------------------+--------------------+-------------+------------------+-------------+-----------+--------------------+\n",
      "|year|month|day|                hora|  usuario_encriptado|tipo_servicio|            servicio|        sub_servicio|tiempo_espera|   tiempo_servicio|         segm|estado_caso|   asesor_encriptado|\n",
      "+----+-----+---+--------------------+--------------------+-------------+--------------------+--------------------+-------------+------------------+-------------+-----------+--------------------+\n",
      "|2024|    1|  4|2025-07-27 11:01:...|bf9d42906c76d0074...|     Asesoria|    Asesoria General|    Asesoria General|          0.0| 7.366666666666666|    Micropyme| Completado|3c2de0b7122c939c3...|\n",
      "|2024|    1| 12|2025-07-27 11:56:...|8ded3ce5bf5145213...|     Asesoria|     Asesoria Turnos|     Asesoria Turnos|          0.0|              46.3|    Micropyme| Completado|787435b566c81a349...|\n",
      "|2024|    1| 19|2025-07-27 09:16:...|1044da7b123e243e0...|     Asesoria|    Asesoria General|    Asesoria General|          0.0|             74.35|     Personal| Completado|42d5000ff5bf6268e...|\n",
      "|2024|    1| 19|2025-07-27 09:57:...|a67a3480ead8e268a...|         Caja|        Caja Turnos |         Caja Turnos|          0.0|16.433333333333334|     Personal| Completado|96804fc93bb8b2530...|\n",
      "|2024|    1| 24|2025-07-27 15:49:...|644a1aa7f64cb2a94...|         Caja|        Caja General|        Caja General|          0.0|23.583333333333332|Personal Plus| Completado|a8ed1596c3f8ccca7...|\n",
      "|2024|    1| 25|2025-07-27 13:02:...|6bfcf3bb0967ed066...|     Asesoria|    Asesoria General|    Asesoria General|          0.0|34.233333333333334|     Personal| Completado|a1f10a7266c77bb4d...|\n",
      "|2024|    1| 25|2025-07-27 15:03:...|b6edb691fcef10284...|         Caja|         Caja Basica|         Caja Basica|          0.0|              0.65|     Personal| Completado|f707b542c3fc2844f...|\n",
      "|2024|    1| 26|2025-07-27 14:25:...|0716b2572afbb042c...|     Asesoria|    Asesoria General|    Asesoria General|          0.0|             12.65|    Micropyme| Completado|379ffaa6a3ad9817e...|\n",
      "|2024|    1| 27|2025-07-27 11:26:...|5af5388f15dd7c1ee...|         Caja|         Caja Basica|         Caja Basica|          0.0|              9.45|     Personal| Completado|89a669420da6a505c...|\n",
      "|2024|    1| 29|2025-07-27 12:56:...|baba05e48959d0e80...|     Asesoria|     Asesoria Turnos|     Asesoria Turnos|          0.0|15.216666666666667|     Personal| Completado|497abae3f9fb7c14d...|\n",
      "|2024|    1| 29|2025-07-27 13:26:...|                NULL|     Asesoria|     Asesoria Turnos|     Asesoria Turnos|          0.0|             27.25|         NULL| Completado|74f058710f1a68489...|\n",
      "|2024|    1| 30|2025-07-27 09:59:...|f1e14a48cd6a66214...|         Caja|         Caja Basica|         Caja Basica|          0.0| 5.916666666666667|         Pyme| Completado|c4d40fcc7ce756beb...|\n",
      "|2024|    2|  3|2025-07-27 08:38:...|9fc82934128ebc6b8...|     Asesoria|    Asesoria General|    Asesoria General|          0.0|17.666666666666668|Personal Plus| Completado|4ba981dc4ae5bdf68...|\n",
      "|2024|    2|  5|2025-07-27 12:47:...|3289f517f5a5a589c...|     Asesoria|Asesoria Preferen...|Asesoria Preferen...|          0.0|29.016666666666666|Personal Plus| Completado|a90c378ec49c86c7b...|\n",
      "|2024|    2|  6|2025-07-27 13:30:...|250f1b40e14d96121...|     Asesoria|    Asesoria General|    Asesoria General|          0.0| 6.466666666666667|         Pyme| Abandonado|d3ba48fd02d57b65c...|\n",
      "|2024|    2|  6|2025-07-27 11:46:...|3c4a43c3c6bdbd965...|     Asesoria|    Asesoria General|    Asesoria General|          0.0|12.533333333333333|Personal Plus| Completado|0a80558288755f63d...|\n",
      "|2024|    2|  6|2025-07-27 13:11:...|cd969886775604ff1...|     Asesoria|    Asesoria General|    Asesoria General|          0.0|26.883333333333333|     Personal| Completado|c3cbcc3a676a13723...|\n",
      "|2024|    2|  7|2025-07-27 16:56:...|c0dffb03afb2f44c3...|         Caja|        Caja Turnos |         Caja Turnos|          0.0|18.883333333333333|         Pyme| Completado|9beee39c9bcdb577c...|\n",
      "|2024|    2|  8|2025-07-27 09:04:...|                NULL|     Asesoria|     Asesoria Turnos|     Asesoria Turnos|          0.0|24.716666666666665|         NULL| Completado|24f0a04a33d8f5e22...|\n",
      "|2024|    2|  9|2025-07-27 10:23:...|                NULL|     Asesoria|    Asesoria General|    Asesoria General|          0.0|              52.3|         NULL| Completado|598c73dbf11464c53...|\n",
      "+----+-----+---+--------------------+--------------------+-------------+--------------------+--------------------+-------------+------------------+-------------+-----------+--------------------+\n",
      "\n"
     ]
    }
   ],
   "source": [
    "spark.sql(\"\"\"\n",
    "SELECT\n",
    "    year, \n",
    "    month, \n",
    "    day, \n",
    "    hora, \n",
    "    usuario_encriptado, \n",
    "    tipo_servicio, \n",
    "    servicio, \n",
    "    sub_servicio,\n",
    "    tiempo_espera, \n",
    "    tiempo_servicio, \n",
    "    segm, \n",
    "    estado_caso, \n",
    "    asesor_encriptado\n",
    "FROM sucursal_turnos\n",
    "WHERE tiempo_espera = 0\n",
    "LIMIT 20;\n",
    "\"\"\").show()"
   ]
  },
  {
   "cell_type": "code",
   "execution_count": null,
   "id": "daf9b381",
   "metadata": {},
   "outputs": [
    {
     "name": "stdout",
     "output_type": "stream",
     "text": [
      "+------------+\n",
      "|total_turnos|\n",
      "+------------+\n",
      "|          62|\n",
      "+------------+\n",
      "\n"
     ]
    }
   ],
   "source": [
    "spark.sql(\"\"\"\n",
    "SELECT\n",
    "    COUNT(*) AS total_turnos\n",
    "FROM sucursal_turnos\n",
    "WHERE tiempo_espera = 0\n",
    "LIMIT 20;\n",
    "\"\"\").show() ## Podrían ser errores de captura de información, relativamente pocos casos"
   ]
  },
  {
   "cell_type": "code",
   "execution_count": null,
   "id": "b350fb25",
   "metadata": {},
   "outputs": [
    {
     "name": "stdout",
     "output_type": "stream",
     "text": [
      "+------------+\n",
      "|total_turnos|\n",
      "+------------+\n",
      "|          35|\n",
      "+------------+\n",
      "\n"
     ]
    }
   ],
   "source": [
    "spark.sql(\"\"\"\n",
    "SELECT\n",
    "    COUNT(*) AS total_turnos\n",
    "FROM sucursal_turnos\n",
    "WHERE tiempo_servicio = 0\n",
    "LIMIT 20;\n",
    "\"\"\").show() ## Podrían ser errores de captura de información, relativamente pocos casos"
   ]
  },
  {
   "cell_type": "code",
   "execution_count": 25,
   "id": "fe8de267",
   "metadata": {},
   "outputs": [
    {
     "name": "stdout",
     "output_type": "stream",
     "text": [
      "+----+-----+---+--------------------+--------------------+--------------------+-----------------+--------------------+-------------------+---------------+---------------+-----------+--------------------+\n",
      "|year|month|day|                hora|  usuario_encriptado|       tipo_servicio|         servicio|        sub_servicio|      tiempo_espera|tiempo_servicio|           segm|estado_caso|   asesor_encriptado|\n",
      "+----+-----+---+--------------------+--------------------+--------------------+-----------------+--------------------+-------------------+---------------+---------------+-----------+--------------------+\n",
      "|2024|    1|  2|2025-07-27 14:46:...|35eacd33ea7ffd3fd...|Canales Alternativos|      Autogestión| Sucursal Telefónica|  43.46666666666667|           NULL|       Personal| Completado|8267f1bcf1d67f35e...|\n",
      "|2024|    1|  2|2025-07-27 15:51:...|80dedeec03dbdf1e8...|                Caja|     Caja General|        Caja General|              66.35|           NULL|       Personal| Completado|28fbc988bfd616f62...|\n",
      "|2024|    1|  2|2025-07-27 14:55:...|37c21a7e0897725ef...|Canales Alternativos|      Autogestión| Sucursal Telefónica|              34.95|           NULL|      Micropyme| Completado|8cfd544bdcbee7995...|\n",
      "|2024|    1|  2|2025-07-27 15:03:...|90f2e1485a00dc3e6...|                Caja|Caja Preferencial|Caja Preferencial...|               69.5|           NULL|       Personal| Completado|5986cc1de641225db...|\n",
      "|2024|    1|  2|2025-07-27 15:24:...|                NULL|                Caja|     Caja General|        Caja General| 100.08333333333333|           NULL|           NULL| Completado|2801213809e2699d8...|\n",
      "|2024|    1|  2|2025-07-27 16:24:...|                NULL|                Caja|     Caja General|        Caja General|              80.85|           NULL|           NULL| Completado|4fd3cd85db1b300f0...|\n",
      "|2024|    1|  2|2025-07-27 14:48:...|37c21a7e0897725ef...|                Caja|     Caja General|        Caja General|               6.35|           NULL|      Micropyme| Completado|8cfd544bdcbee7995...|\n",
      "|2024|    1|  2|2025-07-27 16:38:...|081ea49a150708896...|                Caja|     Caja Turnos |         Caja Turnos|  4.733333333333333|           NULL|       Personal| Completado|1ba04a38e11fb3606...|\n",
      "|2024|    1|  2|2025-07-27 15:33:...|f681b7e9c48ea292e...|                Caja|     Caja General|        Caja General|  84.03333333333333|           NULL|       Personal| Completado|6a3a07aa33649d458...|\n",
      "|2024|    1|  2|2025-07-27 08:59:...|913cbb7770aff49f2...|                Caja|     Caja Turnos |         Caja Turnos|                2.5|           NULL|       Personal| Completado|dab922203c5dc00b3...|\n",
      "|2024|    1|  2|2025-07-27 09:37:...|1a48b28289fb2a8e5...|                Caja|Caja Preferencial|Caja Preferencial...| 56.766666666666666|           NULL|   Preferencial| Completado|a508ca23d7aff896b...|\n",
      "|2024|    1|  2|2025-07-27 16:55:...|836c7845d539fe929...|                Caja|     Caja Turnos |         Caja Turnos|                2.2|           NULL|       Personal| Completado|740d9ea648117bd0a...|\n",
      "|2024|    1|  2|2025-07-27 16:59:...|8b0d763a155b36341...|                Caja|     Caja General|        Caja General|  6.483333333333333|           NULL|       Personal| Completado|4f5580a5f8824c6f6...|\n",
      "|2024|    1|  2|2025-07-27 09:50:...|c4f75a4ec78f5eb8e...|                Caja|     Caja General|        Caja General| 19.766666666666666|           NULL|  Personal Plus| Completado|ecd853ce8603007e7...|\n",
      "|2024|    1|  2|2025-07-27 15:48:...|1660c88f7dc1082ce...|                Caja|     Caja General|        Caja General|  71.06666666666666|           NULL|       Personal| Completado|83380f31cebc75e4f...|\n",
      "|2024|    1|  2|2025-07-27 15:36:...|3d2f686dd972fc25c...|                Caja|     Caja General|        Caja General|  82.16666666666667|           NULL|       Personal| Completado|8676a907ca4abe580...|\n",
      "|2024|    1|  2|2025-07-27 09:56:...|d16320caa6184d805...|            Asesoria|  Asesoria Turnos|     Asesoria Turnos|  61.28333333333333|           NULL|           Pyme| Completado|0c8b51d0b93087ab2...|\n",
      "|2024|    1|  2|2025-07-27 16:47:...|2e263f9f42b35cd8a...|            Asesoria| Asesoria General|    Asesoria General|              20.45|           NULL|           Pyme| Completado|57fa7cedc92a245cf...|\n",
      "|2024|    1|  2|2025-07-27 16:54:...|f80bc0a005ff099b5...|                Caja|     Caja General|        Caja General| 51.233333333333334|           NULL|       Personal| Completado|6f2e80d7cd0fed48c...|\n",
      "|2024|    1|  2|2025-07-27 11:14:...|351c88a60bf4fede5...|                Caja|     Caja General|        Caja General|0.38333333333333336|           NULL|Segmento Social| Completado|79ab000cc639b6125...|\n",
      "+----+-----+---+--------------------+--------------------+--------------------+-----------------+--------------------+-------------------+---------------+---------------+-----------+--------------------+\n",
      "\n"
     ]
    }
   ],
   "source": [
    "spark.sql(\"\"\"\n",
    "SELECT\n",
    "    year, \n",
    "    month, \n",
    "    day, \n",
    "    hora, \n",
    "    usuario_encriptado, \n",
    "    tipo_servicio, \n",
    "    servicio, \n",
    "    sub_servicio,\n",
    "    tiempo_espera, \n",
    "    tiempo_servicio, \n",
    "    segm, \n",
    "    estado_caso, \n",
    "    asesor_encriptado\n",
    "FROM sucursal_turnos\n",
    "WHERE tiempo_servicio IS NULL AND estado_caso = 'Completado'\n",
    "LIMIT 20;\n",
    "\"\"\").show()"
   ]
  },
  {
   "cell_type": "code",
   "execution_count": 26,
   "id": "11b2335b",
   "metadata": {},
   "outputs": [
    {
     "name": "stdout",
     "output_type": "stream",
     "text": [
      "+--------+\n",
      "|count(1)|\n",
      "+--------+\n",
      "|    6386|\n",
      "+--------+\n",
      "\n"
     ]
    }
   ],
   "source": [
    "spark.sql(\"\"\"\n",
    "SELECT\n",
    "    COUNT(*)\n",
    "FROM sucursal_turnos\n",
    "WHERE tiempo_servicio IS NULL AND estado_caso = 'Completado'\n",
    "LIMIT 20;\n",
    "\"\"\").show()"
   ]
  },
  {
   "cell_type": "code",
   "execution_count": 27,
   "id": "15054af2",
   "metadata": {},
   "outputs": [
    {
     "name": "stdout",
     "output_type": "stream",
     "text": [
      "+--------+\n",
      "|count(1)|\n",
      "+--------+\n",
      "|   13562|\n",
      "+--------+\n",
      "\n"
     ]
    }
   ],
   "source": [
    "spark.sql(\"\"\"\n",
    "SELECT\n",
    "    COUNT(*)\n",
    "FROM sucursal_turnos\n",
    "WHERE tiempo_servicio IS NULL AND estado_caso = 'Abandonado'\n",
    "LIMIT 20;\n",
    "\"\"\").show()"
   ]
  },
  {
   "cell_type": "markdown",
   "id": "b98e3a7e",
   "metadata": {},
   "source": [
    "### **Resumen de tiempos**"
   ]
  },
  {
   "cell_type": "code",
   "execution_count": 19,
   "id": "535e517e",
   "metadata": {},
   "outputs": [
    {
     "name": "stdout",
     "output_type": "stream",
     "text": [
      "+-----------------+------------------+\n",
      "|       avg_espera|      avg_servicio|\n",
      "+-----------------+------------------+\n",
      "|33.34095483087441|13.529750245673627|\n",
      "+-----------------+------------------+\n",
      "\n"
     ]
    }
   ],
   "source": [
    "spark.sql(\"\"\"\n",
    "SELECT \n",
    "  AVG(tiempo_espera) AS avg_espera,\n",
    "  AVG(tiempo_servicio) AS avg_servicio\n",
    "FROM sucursal_turnos\n",
    "\"\"\").show()"
   ]
  },
  {
   "cell_type": "markdown",
   "id": "7651d86f",
   "metadata": {},
   "source": [
    "*Nota: no ejecutable de aquí para abajo por el tipado de las variables*"
   ]
  },
  {
   "cell_type": "markdown",
   "id": "6b02dc64",
   "metadata": {},
   "source": [
    "### **Tiempos por tipo de servicio**"
   ]
  },
  {
   "cell_type": "code",
   "execution_count": null,
   "id": "6fed2267",
   "metadata": {},
   "outputs": [],
   "source": [
    "spark.sql(\"\"\"\n",
    "SELECT \n",
    "  tipo_servicio,\n",
    "  ROUND(AVG(tiempo_espera), 2) AS avg_espera,\n",
    "  ROUND(AVG(tiempo_servicio), 2) AS avg_servicio\n",
    "FROM turnos\n",
    "GROUP BY tipo_servicio\n",
    "ORDER BY avg_espera DESC\n",
    "\"\"\").show()"
   ]
  },
  {
   "cell_type": "markdown",
   "id": "6f955cf1",
   "metadata": {},
   "source": [
    "### **Tiempos por segmento**"
   ]
  },
  {
   "cell_type": "code",
   "execution_count": null,
   "id": "7c8ab934",
   "metadata": {},
   "outputs": [],
   "source": [
    "spark.sql(\"\"\"\n",
    "SELECT \n",
    "  segm,\n",
    "  ROUND(AVG(tiempo_espera), 2) AS avg_espera,\n",
    "  ROUND(AVG(tiempo_servicio), 2) AS avg_servicio\n",
    "FROM turnos\n",
    "GROUP BY segm\n",
    "ORDER BY avg_espera DESC\n",
    "\"\"\").show()"
   ]
  },
  {
   "cell_type": "markdown",
   "id": "50ef6e82",
   "metadata": {},
   "source": [
    "### **Volumen por hora**"
   ]
  },
  {
   "cell_type": "code",
   "execution_count": null,
   "id": "c7812a1d",
   "metadata": {},
   "outputs": [],
   "source": [
    "spark.sql(\"\"\"\n",
    "SELECT \n",
    "  hora_num,\n",
    "  COUNT(*) AS atenciones\n",
    "FROM turnos\n",
    "GROUP BY hora_num\n",
    "ORDER BY hora_num\n",
    "\"\"\").show()"
   ]
  }
 ],
 "metadata": {
  "kernelspec": {
   "display_name": ".venv",
   "language": "python",
   "name": "python3"
  },
  "language_info": {
   "codemirror_mode": {
    "name": "ipython",
    "version": 3
   },
   "file_extension": ".py",
   "mimetype": "text/x-python",
   "name": "python",
   "nbconvert_exporter": "python",
   "pygments_lexer": "ipython3",
   "version": "3.10.5"
  }
 },
 "nbformat": 4,
 "nbformat_minor": 5
}
